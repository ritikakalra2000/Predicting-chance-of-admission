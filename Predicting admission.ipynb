{
 "cells": [
  {
   "cell_type": "markdown",
   "metadata": {},
   "source": [
    "# \tProblem Statement "
   ]
  },
  {
   "cell_type": "markdown",
   "metadata": {},
   "source": [
    "Predict whether the student has a chance of graduate admission or not based on the following inputs.\n",
    "\n",
    "The data is as follows:"
   ]
  },
  {
   "cell_type": "markdown",
   "metadata": {},
   "source": [
    "##  Inputs"
   ]
  },
  {
   "cell_type": "markdown",
   "metadata": {},
   "source": [
    "Serial No.\n",
    "\n",
    "GRE Score\n",
    "\n",
    "TOEFL Score\n",
    "\n",
    "University Rating\n",
    "\n",
    "SOP\n",
    "\n",
    "LOR\n",
    "\n",
    "CGPA\n",
    "\n",
    "Research\n",
    "\n",
    "Chance of Admit\n",
    "\n"
   ]
  },
  {
   "cell_type": "markdown",
   "metadata": {},
   "source": [
    "## Output"
   ]
  },
  {
   "cell_type": "markdown",
   "metadata": {},
   "source": [
    "Chance "
   ]
  },
  {
   "cell_type": "markdown",
   "metadata": {},
   "source": [
    "# STEP #0: LIBRARIES IMPORT"
   ]
  },
  {
   "cell_type": "code",
   "execution_count": 1,
   "metadata": {},
   "outputs": [],
   "source": [
    "import pandas as pd\n",
    "import numpy as np\n",
    "import matplotlib.pyplot as plt\n",
    "import seaborn as sns\n",
    "from sklearn import model_selection"
   ]
  },
  {
   "cell_type": "markdown",
   "metadata": {},
   "source": [
    "# STEP #1: IMPORT DATASET"
   ]
  },
  {
   "cell_type": "code",
   "execution_count": 2,
   "metadata": {},
   "outputs": [],
   "source": [
    "training_set=pd.read_csv('C:\\\\Users\\\\Dell\\\\Downloads\\\\graduate-admissions\\\\Admission_Predict.csv',encoding='ISO-8859-1')"
   ]
  },
  {
   "cell_type": "code",
   "execution_count": 3,
   "metadata": {},
   "outputs": [
    {
     "data": {
      "text/html": [
       "<div>\n",
       "<style scoped>\n",
       "    .dataframe tbody tr th:only-of-type {\n",
       "        vertical-align: middle;\n",
       "    }\n",
       "\n",
       "    .dataframe tbody tr th {\n",
       "        vertical-align: top;\n",
       "    }\n",
       "\n",
       "    .dataframe thead th {\n",
       "        text-align: right;\n",
       "    }\n",
       "</style>\n",
       "<table border=\"1\" class=\"dataframe\">\n",
       "  <thead>\n",
       "    <tr style=\"text-align: right;\">\n",
       "      <th></th>\n",
       "      <th>Serial No.</th>\n",
       "      <th>GRE Score</th>\n",
       "      <th>TOEFL Score</th>\n",
       "      <th>University Rating</th>\n",
       "      <th>SOP</th>\n",
       "      <th>LOR</th>\n",
       "      <th>CGPA</th>\n",
       "      <th>Research</th>\n",
       "      <th>Chance of Admit</th>\n",
       "      <th>Chance</th>\n",
       "    </tr>\n",
       "  </thead>\n",
       "  <tbody>\n",
       "    <tr>\n",
       "      <th>0</th>\n",
       "      <td>1</td>\n",
       "      <td>337</td>\n",
       "      <td>118</td>\n",
       "      <td>4</td>\n",
       "      <td>4.5</td>\n",
       "      <td>4.5</td>\n",
       "      <td>9.65</td>\n",
       "      <td>1</td>\n",
       "      <td>0.92</td>\n",
       "      <td>1</td>\n",
       "    </tr>\n",
       "    <tr>\n",
       "      <th>1</th>\n",
       "      <td>2</td>\n",
       "      <td>324</td>\n",
       "      <td>107</td>\n",
       "      <td>4</td>\n",
       "      <td>4.0</td>\n",
       "      <td>4.5</td>\n",
       "      <td>8.87</td>\n",
       "      <td>1</td>\n",
       "      <td>0.76</td>\n",
       "      <td>1</td>\n",
       "    </tr>\n",
       "    <tr>\n",
       "      <th>2</th>\n",
       "      <td>3</td>\n",
       "      <td>316</td>\n",
       "      <td>104</td>\n",
       "      <td>3</td>\n",
       "      <td>3.0</td>\n",
       "      <td>3.5</td>\n",
       "      <td>8.00</td>\n",
       "      <td>1</td>\n",
       "      <td>0.72</td>\n",
       "      <td>1</td>\n",
       "    </tr>\n",
       "    <tr>\n",
       "      <th>3</th>\n",
       "      <td>4</td>\n",
       "      <td>322</td>\n",
       "      <td>110</td>\n",
       "      <td>3</td>\n",
       "      <td>3.5</td>\n",
       "      <td>2.5</td>\n",
       "      <td>8.67</td>\n",
       "      <td>1</td>\n",
       "      <td>0.80</td>\n",
       "      <td>1</td>\n",
       "    </tr>\n",
       "    <tr>\n",
       "      <th>4</th>\n",
       "      <td>5</td>\n",
       "      <td>314</td>\n",
       "      <td>103</td>\n",
       "      <td>2</td>\n",
       "      <td>2.0</td>\n",
       "      <td>3.0</td>\n",
       "      <td>8.21</td>\n",
       "      <td>0</td>\n",
       "      <td>0.65</td>\n",
       "      <td>1</td>\n",
       "    </tr>\n",
       "    <tr>\n",
       "      <th>...</th>\n",
       "      <td>...</td>\n",
       "      <td>...</td>\n",
       "      <td>...</td>\n",
       "      <td>...</td>\n",
       "      <td>...</td>\n",
       "      <td>...</td>\n",
       "      <td>...</td>\n",
       "      <td>...</td>\n",
       "      <td>...</td>\n",
       "      <td>...</td>\n",
       "    </tr>\n",
       "    <tr>\n",
       "      <th>395</th>\n",
       "      <td>396</td>\n",
       "      <td>324</td>\n",
       "      <td>110</td>\n",
       "      <td>3</td>\n",
       "      <td>3.5</td>\n",
       "      <td>3.5</td>\n",
       "      <td>9.04</td>\n",
       "      <td>1</td>\n",
       "      <td>0.82</td>\n",
       "      <td>1</td>\n",
       "    </tr>\n",
       "    <tr>\n",
       "      <th>396</th>\n",
       "      <td>397</td>\n",
       "      <td>325</td>\n",
       "      <td>107</td>\n",
       "      <td>3</td>\n",
       "      <td>3.0</td>\n",
       "      <td>3.5</td>\n",
       "      <td>9.11</td>\n",
       "      <td>1</td>\n",
       "      <td>0.84</td>\n",
       "      <td>1</td>\n",
       "    </tr>\n",
       "    <tr>\n",
       "      <th>397</th>\n",
       "      <td>398</td>\n",
       "      <td>330</td>\n",
       "      <td>116</td>\n",
       "      <td>4</td>\n",
       "      <td>5.0</td>\n",
       "      <td>4.5</td>\n",
       "      <td>9.45</td>\n",
       "      <td>1</td>\n",
       "      <td>0.91</td>\n",
       "      <td>1</td>\n",
       "    </tr>\n",
       "    <tr>\n",
       "      <th>398</th>\n",
       "      <td>399</td>\n",
       "      <td>312</td>\n",
       "      <td>103</td>\n",
       "      <td>3</td>\n",
       "      <td>3.5</td>\n",
       "      <td>4.0</td>\n",
       "      <td>8.78</td>\n",
       "      <td>0</td>\n",
       "      <td>0.67</td>\n",
       "      <td>1</td>\n",
       "    </tr>\n",
       "    <tr>\n",
       "      <th>399</th>\n",
       "      <td>400</td>\n",
       "      <td>333</td>\n",
       "      <td>117</td>\n",
       "      <td>4</td>\n",
       "      <td>5.0</td>\n",
       "      <td>4.0</td>\n",
       "      <td>9.66</td>\n",
       "      <td>1</td>\n",
       "      <td>0.95</td>\n",
       "      <td>1</td>\n",
       "    </tr>\n",
       "  </tbody>\n",
       "</table>\n",
       "<p>400 rows × 10 columns</p>\n",
       "</div>"
      ],
      "text/plain": [
       "     Serial No.  GRE Score  TOEFL Score  University Rating  SOP  LOR   CGPA  \\\n",
       "0             1        337          118                  4  4.5   4.5  9.65   \n",
       "1             2        324          107                  4  4.0   4.5  8.87   \n",
       "2             3        316          104                  3  3.0   3.5  8.00   \n",
       "3             4        322          110                  3  3.5   2.5  8.67   \n",
       "4             5        314          103                  2  2.0   3.0  8.21   \n",
       "..          ...        ...          ...                ...  ...   ...   ...   \n",
       "395         396        324          110                  3  3.5   3.5  9.04   \n",
       "396         397        325          107                  3  3.0   3.5  9.11   \n",
       "397         398        330          116                  4  5.0   4.5  9.45   \n",
       "398         399        312          103                  3  3.5   4.0  8.78   \n",
       "399         400        333          117                  4  5.0   4.0  9.66   \n",
       "\n",
       "     Research  Chance of Admit   Chance  \n",
       "0           1              0.92       1  \n",
       "1           1              0.76       1  \n",
       "2           1              0.72       1  \n",
       "3           1              0.80       1  \n",
       "4           0              0.65       1  \n",
       "..        ...               ...     ...  \n",
       "395         1              0.82       1  \n",
       "396         1              0.84       1  \n",
       "397         1              0.91       1  \n",
       "398         0              0.67       1  \n",
       "399         1              0.95       1  \n",
       "\n",
       "[400 rows x 10 columns]"
      ]
     },
     "execution_count": 3,
     "metadata": {},
     "output_type": "execute_result"
    }
   ],
   "source": [
    "training_set"
   ]
  },
  {
   "cell_type": "code",
   "execution_count": 4,
   "metadata": {},
   "outputs": [],
   "source": [
    "training_set.rename(columns = {'Chance of Admit ':'Chance of Admit', 'LOR ':'LOR'},inplace=True)"
   ]
  },
  {
   "cell_type": "code",
   "execution_count": 5,
   "metadata": {},
   "outputs": [
    {
     "data": {
      "text/html": [
       "<div>\n",
       "<style scoped>\n",
       "    .dataframe tbody tr th:only-of-type {\n",
       "        vertical-align: middle;\n",
       "    }\n",
       "\n",
       "    .dataframe tbody tr th {\n",
       "        vertical-align: top;\n",
       "    }\n",
       "\n",
       "    .dataframe thead th {\n",
       "        text-align: right;\n",
       "    }\n",
       "</style>\n",
       "<table border=\"1\" class=\"dataframe\">\n",
       "  <thead>\n",
       "    <tr style=\"text-align: right;\">\n",
       "      <th></th>\n",
       "      <th>Serial No.</th>\n",
       "      <th>GRE Score</th>\n",
       "      <th>TOEFL Score</th>\n",
       "      <th>University Rating</th>\n",
       "      <th>SOP</th>\n",
       "      <th>LOR</th>\n",
       "      <th>CGPA</th>\n",
       "      <th>Research</th>\n",
       "      <th>Chance of Admit</th>\n",
       "      <th>Chance</th>\n",
       "    </tr>\n",
       "  </thead>\n",
       "  <tbody>\n",
       "    <tr>\n",
       "      <th>0</th>\n",
       "      <td>1</td>\n",
       "      <td>337</td>\n",
       "      <td>118</td>\n",
       "      <td>4</td>\n",
       "      <td>4.5</td>\n",
       "      <td>4.5</td>\n",
       "      <td>9.65</td>\n",
       "      <td>1</td>\n",
       "      <td>0.92</td>\n",
       "      <td>1</td>\n",
       "    </tr>\n",
       "    <tr>\n",
       "      <th>1</th>\n",
       "      <td>2</td>\n",
       "      <td>324</td>\n",
       "      <td>107</td>\n",
       "      <td>4</td>\n",
       "      <td>4.0</td>\n",
       "      <td>4.5</td>\n",
       "      <td>8.87</td>\n",
       "      <td>1</td>\n",
       "      <td>0.76</td>\n",
       "      <td>1</td>\n",
       "    </tr>\n",
       "    <tr>\n",
       "      <th>2</th>\n",
       "      <td>3</td>\n",
       "      <td>316</td>\n",
       "      <td>104</td>\n",
       "      <td>3</td>\n",
       "      <td>3.0</td>\n",
       "      <td>3.5</td>\n",
       "      <td>8.00</td>\n",
       "      <td>1</td>\n",
       "      <td>0.72</td>\n",
       "      <td>1</td>\n",
       "    </tr>\n",
       "    <tr>\n",
       "      <th>3</th>\n",
       "      <td>4</td>\n",
       "      <td>322</td>\n",
       "      <td>110</td>\n",
       "      <td>3</td>\n",
       "      <td>3.5</td>\n",
       "      <td>2.5</td>\n",
       "      <td>8.67</td>\n",
       "      <td>1</td>\n",
       "      <td>0.80</td>\n",
       "      <td>1</td>\n",
       "    </tr>\n",
       "    <tr>\n",
       "      <th>4</th>\n",
       "      <td>5</td>\n",
       "      <td>314</td>\n",
       "      <td>103</td>\n",
       "      <td>2</td>\n",
       "      <td>2.0</td>\n",
       "      <td>3.0</td>\n",
       "      <td>8.21</td>\n",
       "      <td>0</td>\n",
       "      <td>0.65</td>\n",
       "      <td>1</td>\n",
       "    </tr>\n",
       "    <tr>\n",
       "      <th>...</th>\n",
       "      <td>...</td>\n",
       "      <td>...</td>\n",
       "      <td>...</td>\n",
       "      <td>...</td>\n",
       "      <td>...</td>\n",
       "      <td>...</td>\n",
       "      <td>...</td>\n",
       "      <td>...</td>\n",
       "      <td>...</td>\n",
       "      <td>...</td>\n",
       "    </tr>\n",
       "    <tr>\n",
       "      <th>395</th>\n",
       "      <td>396</td>\n",
       "      <td>324</td>\n",
       "      <td>110</td>\n",
       "      <td>3</td>\n",
       "      <td>3.5</td>\n",
       "      <td>3.5</td>\n",
       "      <td>9.04</td>\n",
       "      <td>1</td>\n",
       "      <td>0.82</td>\n",
       "      <td>1</td>\n",
       "    </tr>\n",
       "    <tr>\n",
       "      <th>396</th>\n",
       "      <td>397</td>\n",
       "      <td>325</td>\n",
       "      <td>107</td>\n",
       "      <td>3</td>\n",
       "      <td>3.0</td>\n",
       "      <td>3.5</td>\n",
       "      <td>9.11</td>\n",
       "      <td>1</td>\n",
       "      <td>0.84</td>\n",
       "      <td>1</td>\n",
       "    </tr>\n",
       "    <tr>\n",
       "      <th>397</th>\n",
       "      <td>398</td>\n",
       "      <td>330</td>\n",
       "      <td>116</td>\n",
       "      <td>4</td>\n",
       "      <td>5.0</td>\n",
       "      <td>4.5</td>\n",
       "      <td>9.45</td>\n",
       "      <td>1</td>\n",
       "      <td>0.91</td>\n",
       "      <td>1</td>\n",
       "    </tr>\n",
       "    <tr>\n",
       "      <th>398</th>\n",
       "      <td>399</td>\n",
       "      <td>312</td>\n",
       "      <td>103</td>\n",
       "      <td>3</td>\n",
       "      <td>3.5</td>\n",
       "      <td>4.0</td>\n",
       "      <td>8.78</td>\n",
       "      <td>0</td>\n",
       "      <td>0.67</td>\n",
       "      <td>1</td>\n",
       "    </tr>\n",
       "    <tr>\n",
       "      <th>399</th>\n",
       "      <td>400</td>\n",
       "      <td>333</td>\n",
       "      <td>117</td>\n",
       "      <td>4</td>\n",
       "      <td>5.0</td>\n",
       "      <td>4.0</td>\n",
       "      <td>9.66</td>\n",
       "      <td>1</td>\n",
       "      <td>0.95</td>\n",
       "      <td>1</td>\n",
       "    </tr>\n",
       "  </tbody>\n",
       "</table>\n",
       "<p>400 rows × 10 columns</p>\n",
       "</div>"
      ],
      "text/plain": [
       "     Serial No.  GRE Score  TOEFL Score  University Rating  SOP  LOR  CGPA  \\\n",
       "0             1        337          118                  4  4.5  4.5  9.65   \n",
       "1             2        324          107                  4  4.0  4.5  8.87   \n",
       "2             3        316          104                  3  3.0  3.5  8.00   \n",
       "3             4        322          110                  3  3.5  2.5  8.67   \n",
       "4             5        314          103                  2  2.0  3.0  8.21   \n",
       "..          ...        ...          ...                ...  ...  ...   ...   \n",
       "395         396        324          110                  3  3.5  3.5  9.04   \n",
       "396         397        325          107                  3  3.0  3.5  9.11   \n",
       "397         398        330          116                  4  5.0  4.5  9.45   \n",
       "398         399        312          103                  3  3.5  4.0  8.78   \n",
       "399         400        333          117                  4  5.0  4.0  9.66   \n",
       "\n",
       "     Research  Chance of Admit  Chance  \n",
       "0           1             0.92       1  \n",
       "1           1             0.76       1  \n",
       "2           1             0.72       1  \n",
       "3           1             0.80       1  \n",
       "4           0             0.65       1  \n",
       "..        ...              ...     ...  \n",
       "395         1             0.82       1  \n",
       "396         1             0.84       1  \n",
       "397         1             0.91       1  \n",
       "398         0             0.67       1  \n",
       "399         1             0.95       1  \n",
       "\n",
       "[400 rows x 10 columns]"
      ]
     },
     "execution_count": 5,
     "metadata": {},
     "output_type": "execute_result"
    }
   ],
   "source": [
    "training_set"
   ]
  },
  {
   "cell_type": "code",
   "execution_count": 6,
   "metadata": {},
   "outputs": [
    {
     "name": "stdout",
     "output_type": "stream",
     "text": [
      "<class 'pandas.core.frame.DataFrame'>\n",
      "RangeIndex: 400 entries, 0 to 399\n",
      "Data columns (total 10 columns):\n",
      " #   Column             Non-Null Count  Dtype  \n",
      "---  ------             --------------  -----  \n",
      " 0   Serial No.         400 non-null    int64  \n",
      " 1   GRE Score          400 non-null    int64  \n",
      " 2   TOEFL Score        400 non-null    int64  \n",
      " 3   University Rating  400 non-null    int64  \n",
      " 4   SOP                400 non-null    float64\n",
      " 5   LOR                400 non-null    float64\n",
      " 6   CGPA               400 non-null    float64\n",
      " 7   Research           400 non-null    int64  \n",
      " 8   Chance of Admit    400 non-null    float64\n",
      " 9   Chance             400 non-null    int64  \n",
      "dtypes: float64(4), int64(6)\n",
      "memory usage: 31.4 KB\n"
     ]
    }
   ],
   "source": [
    "training_set.info()"
   ]
  },
  {
   "cell_type": "code",
   "execution_count": 7,
   "metadata": {},
   "outputs": [
    {
     "data": {
      "text/html": [
       "<div>\n",
       "<style scoped>\n",
       "    .dataframe tbody tr th:only-of-type {\n",
       "        vertical-align: middle;\n",
       "    }\n",
       "\n",
       "    .dataframe tbody tr th {\n",
       "        vertical-align: top;\n",
       "    }\n",
       "\n",
       "    .dataframe thead th {\n",
       "        text-align: right;\n",
       "    }\n",
       "</style>\n",
       "<table border=\"1\" class=\"dataframe\">\n",
       "  <thead>\n",
       "    <tr style=\"text-align: right;\">\n",
       "      <th></th>\n",
       "      <th>Serial No.</th>\n",
       "      <th>GRE Score</th>\n",
       "      <th>TOEFL Score</th>\n",
       "      <th>University Rating</th>\n",
       "      <th>SOP</th>\n",
       "      <th>LOR</th>\n",
       "      <th>CGPA</th>\n",
       "      <th>Research</th>\n",
       "      <th>Chance of Admit</th>\n",
       "      <th>Chance</th>\n",
       "    </tr>\n",
       "  </thead>\n",
       "  <tbody>\n",
       "    <tr>\n",
       "      <th>0</th>\n",
       "      <td>1</td>\n",
       "      <td>337</td>\n",
       "      <td>118</td>\n",
       "      <td>4</td>\n",
       "      <td>4.5</td>\n",
       "      <td>4.5</td>\n",
       "      <td>9.65</td>\n",
       "      <td>1</td>\n",
       "      <td>0.92</td>\n",
       "      <td>1</td>\n",
       "    </tr>\n",
       "    <tr>\n",
       "      <th>1</th>\n",
       "      <td>2</td>\n",
       "      <td>324</td>\n",
       "      <td>107</td>\n",
       "      <td>4</td>\n",
       "      <td>4.0</td>\n",
       "      <td>4.5</td>\n",
       "      <td>8.87</td>\n",
       "      <td>1</td>\n",
       "      <td>0.76</td>\n",
       "      <td>1</td>\n",
       "    </tr>\n",
       "    <tr>\n",
       "      <th>2</th>\n",
       "      <td>3</td>\n",
       "      <td>316</td>\n",
       "      <td>104</td>\n",
       "      <td>3</td>\n",
       "      <td>3.0</td>\n",
       "      <td>3.5</td>\n",
       "      <td>8.00</td>\n",
       "      <td>1</td>\n",
       "      <td>0.72</td>\n",
       "      <td>1</td>\n",
       "    </tr>\n",
       "    <tr>\n",
       "      <th>3</th>\n",
       "      <td>4</td>\n",
       "      <td>322</td>\n",
       "      <td>110</td>\n",
       "      <td>3</td>\n",
       "      <td>3.5</td>\n",
       "      <td>2.5</td>\n",
       "      <td>8.67</td>\n",
       "      <td>1</td>\n",
       "      <td>0.80</td>\n",
       "      <td>1</td>\n",
       "    </tr>\n",
       "    <tr>\n",
       "      <th>4</th>\n",
       "      <td>5</td>\n",
       "      <td>314</td>\n",
       "      <td>103</td>\n",
       "      <td>2</td>\n",
       "      <td>2.0</td>\n",
       "      <td>3.0</td>\n",
       "      <td>8.21</td>\n",
       "      <td>0</td>\n",
       "      <td>0.65</td>\n",
       "      <td>1</td>\n",
       "    </tr>\n",
       "  </tbody>\n",
       "</table>\n",
       "</div>"
      ],
      "text/plain": [
       "   Serial No.  GRE Score  TOEFL Score  University Rating  SOP  LOR  CGPA  \\\n",
       "0           1        337          118                  4  4.5  4.5  9.65   \n",
       "1           2        324          107                  4  4.0  4.5  8.87   \n",
       "2           3        316          104                  3  3.0  3.5  8.00   \n",
       "3           4        322          110                  3  3.5  2.5  8.67   \n",
       "4           5        314          103                  2  2.0  3.0  8.21   \n",
       "\n",
       "   Research  Chance of Admit  Chance  \n",
       "0         1             0.92       1  \n",
       "1         1             0.76       1  \n",
       "2         1             0.72       1  \n",
       "3         1             0.80       1  \n",
       "4         0             0.65       1  "
      ]
     },
     "execution_count": 7,
     "metadata": {},
     "output_type": "execute_result"
    }
   ],
   "source": [
    "training_set.head()"
   ]
  },
  {
   "cell_type": "code",
   "execution_count": 8,
   "metadata": {},
   "outputs": [
    {
     "data": {
      "text/html": [
       "<div>\n",
       "<style scoped>\n",
       "    .dataframe tbody tr th:only-of-type {\n",
       "        vertical-align: middle;\n",
       "    }\n",
       "\n",
       "    .dataframe tbody tr th {\n",
       "        vertical-align: top;\n",
       "    }\n",
       "\n",
       "    .dataframe thead th {\n",
       "        text-align: right;\n",
       "    }\n",
       "</style>\n",
       "<table border=\"1\" class=\"dataframe\">\n",
       "  <thead>\n",
       "    <tr style=\"text-align: right;\">\n",
       "      <th></th>\n",
       "      <th>Serial No.</th>\n",
       "      <th>GRE Score</th>\n",
       "      <th>TOEFL Score</th>\n",
       "      <th>University Rating</th>\n",
       "      <th>SOP</th>\n",
       "      <th>LOR</th>\n",
       "      <th>CGPA</th>\n",
       "      <th>Research</th>\n",
       "      <th>Chance of Admit</th>\n",
       "      <th>Chance</th>\n",
       "    </tr>\n",
       "  </thead>\n",
       "  <tbody>\n",
       "    <tr>\n",
       "      <th>395</th>\n",
       "      <td>396</td>\n",
       "      <td>324</td>\n",
       "      <td>110</td>\n",
       "      <td>3</td>\n",
       "      <td>3.5</td>\n",
       "      <td>3.5</td>\n",
       "      <td>9.04</td>\n",
       "      <td>1</td>\n",
       "      <td>0.82</td>\n",
       "      <td>1</td>\n",
       "    </tr>\n",
       "    <tr>\n",
       "      <th>396</th>\n",
       "      <td>397</td>\n",
       "      <td>325</td>\n",
       "      <td>107</td>\n",
       "      <td>3</td>\n",
       "      <td>3.0</td>\n",
       "      <td>3.5</td>\n",
       "      <td>9.11</td>\n",
       "      <td>1</td>\n",
       "      <td>0.84</td>\n",
       "      <td>1</td>\n",
       "    </tr>\n",
       "    <tr>\n",
       "      <th>397</th>\n",
       "      <td>398</td>\n",
       "      <td>330</td>\n",
       "      <td>116</td>\n",
       "      <td>4</td>\n",
       "      <td>5.0</td>\n",
       "      <td>4.5</td>\n",
       "      <td>9.45</td>\n",
       "      <td>1</td>\n",
       "      <td>0.91</td>\n",
       "      <td>1</td>\n",
       "    </tr>\n",
       "    <tr>\n",
       "      <th>398</th>\n",
       "      <td>399</td>\n",
       "      <td>312</td>\n",
       "      <td>103</td>\n",
       "      <td>3</td>\n",
       "      <td>3.5</td>\n",
       "      <td>4.0</td>\n",
       "      <td>8.78</td>\n",
       "      <td>0</td>\n",
       "      <td>0.67</td>\n",
       "      <td>1</td>\n",
       "    </tr>\n",
       "    <tr>\n",
       "      <th>399</th>\n",
       "      <td>400</td>\n",
       "      <td>333</td>\n",
       "      <td>117</td>\n",
       "      <td>4</td>\n",
       "      <td>5.0</td>\n",
       "      <td>4.0</td>\n",
       "      <td>9.66</td>\n",
       "      <td>1</td>\n",
       "      <td>0.95</td>\n",
       "      <td>1</td>\n",
       "    </tr>\n",
       "  </tbody>\n",
       "</table>\n",
       "</div>"
      ],
      "text/plain": [
       "     Serial No.  GRE Score  TOEFL Score  University Rating  SOP  LOR  CGPA  \\\n",
       "395         396        324          110                  3  3.5  3.5  9.04   \n",
       "396         397        325          107                  3  3.0  3.5  9.11   \n",
       "397         398        330          116                  4  5.0  4.5  9.45   \n",
       "398         399        312          103                  3  3.5  4.0  8.78   \n",
       "399         400        333          117                  4  5.0  4.0  9.66   \n",
       "\n",
       "     Research  Chance of Admit  Chance  \n",
       "395         1             0.82       1  \n",
       "396         1             0.84       1  \n",
       "397         1             0.91       1  \n",
       "398         0             0.67       1  \n",
       "399         1             0.95       1  "
      ]
     },
     "execution_count": 8,
     "metadata": {},
     "output_type": "execute_result"
    }
   ],
   "source": [
    "training_set.tail()"
   ]
  },
  {
   "cell_type": "code",
   "execution_count": 9,
   "metadata": {},
   "outputs": [
    {
     "data": {
      "text/html": [
       "<div>\n",
       "<style scoped>\n",
       "    .dataframe tbody tr th:only-of-type {\n",
       "        vertical-align: middle;\n",
       "    }\n",
       "\n",
       "    .dataframe tbody tr th {\n",
       "        vertical-align: top;\n",
       "    }\n",
       "\n",
       "    .dataframe thead th {\n",
       "        text-align: right;\n",
       "    }\n",
       "</style>\n",
       "<table border=\"1\" class=\"dataframe\">\n",
       "  <thead>\n",
       "    <tr style=\"text-align: right;\">\n",
       "      <th></th>\n",
       "      <th>Serial No.</th>\n",
       "      <th>GRE Score</th>\n",
       "      <th>TOEFL Score</th>\n",
       "      <th>University Rating</th>\n",
       "      <th>SOP</th>\n",
       "      <th>LOR</th>\n",
       "      <th>CGPA</th>\n",
       "      <th>Research</th>\n",
       "      <th>Chance of Admit</th>\n",
       "      <th>Chance</th>\n",
       "    </tr>\n",
       "  </thead>\n",
       "  <tbody>\n",
       "    <tr>\n",
       "      <th>count</th>\n",
       "      <td>400.000000</td>\n",
       "      <td>400.000000</td>\n",
       "      <td>400.000000</td>\n",
       "      <td>400.000000</td>\n",
       "      <td>400.000000</td>\n",
       "      <td>400.000000</td>\n",
       "      <td>400.000000</td>\n",
       "      <td>400.000000</td>\n",
       "      <td>400.000000</td>\n",
       "      <td>400.00000</td>\n",
       "    </tr>\n",
       "    <tr>\n",
       "      <th>mean</th>\n",
       "      <td>200.500000</td>\n",
       "      <td>316.807500</td>\n",
       "      <td>107.410000</td>\n",
       "      <td>3.087500</td>\n",
       "      <td>3.400000</td>\n",
       "      <td>3.452500</td>\n",
       "      <td>8.598925</td>\n",
       "      <td>0.547500</td>\n",
       "      <td>0.724350</td>\n",
       "      <td>0.91750</td>\n",
       "    </tr>\n",
       "    <tr>\n",
       "      <th>std</th>\n",
       "      <td>115.614301</td>\n",
       "      <td>11.473646</td>\n",
       "      <td>6.069514</td>\n",
       "      <td>1.143728</td>\n",
       "      <td>1.006869</td>\n",
       "      <td>0.898478</td>\n",
       "      <td>0.596317</td>\n",
       "      <td>0.498362</td>\n",
       "      <td>0.142609</td>\n",
       "      <td>0.27547</td>\n",
       "    </tr>\n",
       "    <tr>\n",
       "      <th>min</th>\n",
       "      <td>1.000000</td>\n",
       "      <td>290.000000</td>\n",
       "      <td>92.000000</td>\n",
       "      <td>1.000000</td>\n",
       "      <td>1.000000</td>\n",
       "      <td>1.000000</td>\n",
       "      <td>6.800000</td>\n",
       "      <td>0.000000</td>\n",
       "      <td>0.340000</td>\n",
       "      <td>0.00000</td>\n",
       "    </tr>\n",
       "    <tr>\n",
       "      <th>25%</th>\n",
       "      <td>100.750000</td>\n",
       "      <td>308.000000</td>\n",
       "      <td>103.000000</td>\n",
       "      <td>2.000000</td>\n",
       "      <td>2.500000</td>\n",
       "      <td>3.000000</td>\n",
       "      <td>8.170000</td>\n",
       "      <td>0.000000</td>\n",
       "      <td>0.640000</td>\n",
       "      <td>1.00000</td>\n",
       "    </tr>\n",
       "    <tr>\n",
       "      <th>50%</th>\n",
       "      <td>200.500000</td>\n",
       "      <td>317.000000</td>\n",
       "      <td>107.000000</td>\n",
       "      <td>3.000000</td>\n",
       "      <td>3.500000</td>\n",
       "      <td>3.500000</td>\n",
       "      <td>8.610000</td>\n",
       "      <td>1.000000</td>\n",
       "      <td>0.730000</td>\n",
       "      <td>1.00000</td>\n",
       "    </tr>\n",
       "    <tr>\n",
       "      <th>75%</th>\n",
       "      <td>300.250000</td>\n",
       "      <td>325.000000</td>\n",
       "      <td>112.000000</td>\n",
       "      <td>4.000000</td>\n",
       "      <td>4.000000</td>\n",
       "      <td>4.000000</td>\n",
       "      <td>9.062500</td>\n",
       "      <td>1.000000</td>\n",
       "      <td>0.830000</td>\n",
       "      <td>1.00000</td>\n",
       "    </tr>\n",
       "    <tr>\n",
       "      <th>max</th>\n",
       "      <td>400.000000</td>\n",
       "      <td>340.000000</td>\n",
       "      <td>120.000000</td>\n",
       "      <td>5.000000</td>\n",
       "      <td>5.000000</td>\n",
       "      <td>5.000000</td>\n",
       "      <td>9.920000</td>\n",
       "      <td>1.000000</td>\n",
       "      <td>0.970000</td>\n",
       "      <td>1.00000</td>\n",
       "    </tr>\n",
       "  </tbody>\n",
       "</table>\n",
       "</div>"
      ],
      "text/plain": [
       "       Serial No.   GRE Score  TOEFL Score  University Rating         SOP  \\\n",
       "count  400.000000  400.000000   400.000000         400.000000  400.000000   \n",
       "mean   200.500000  316.807500   107.410000           3.087500    3.400000   \n",
       "std    115.614301   11.473646     6.069514           1.143728    1.006869   \n",
       "min      1.000000  290.000000    92.000000           1.000000    1.000000   \n",
       "25%    100.750000  308.000000   103.000000           2.000000    2.500000   \n",
       "50%    200.500000  317.000000   107.000000           3.000000    3.500000   \n",
       "75%    300.250000  325.000000   112.000000           4.000000    4.000000   \n",
       "max    400.000000  340.000000   120.000000           5.000000    5.000000   \n",
       "\n",
       "              LOR        CGPA    Research  Chance of Admit     Chance  \n",
       "count  400.000000  400.000000  400.000000       400.000000  400.00000  \n",
       "mean     3.452500    8.598925    0.547500         0.724350    0.91750  \n",
       "std      0.898478    0.596317    0.498362         0.142609    0.27547  \n",
       "min      1.000000    6.800000    0.000000         0.340000    0.00000  \n",
       "25%      3.000000    8.170000    0.000000         0.640000    1.00000  \n",
       "50%      3.500000    8.610000    1.000000         0.730000    1.00000  \n",
       "75%      4.000000    9.062500    1.000000         0.830000    1.00000  \n",
       "max      5.000000    9.920000    1.000000         0.970000    1.00000  "
      ]
     },
     "execution_count": 9,
     "metadata": {},
     "output_type": "execute_result"
    }
   ],
   "source": [
    "training_set.describe()"
   ]
  },
  {
   "cell_type": "markdown",
   "metadata": {},
   "source": [
    "# STEP #2: EXPLORE/VISUALIZE DATASET"
   ]
  },
  {
   "cell_type": "code",
   "execution_count": 10,
   "metadata": {},
   "outputs": [],
   "source": [
    "Chance    = training_set[training_set['Chance']==1]\n",
    "No_chance = training_set[training_set['Chance']==0]"
   ]
  },
  {
   "cell_type": "code",
   "execution_count": 11,
   "metadata": {},
   "outputs": [
    {
     "name": "stdout",
     "output_type": "stream",
     "text": [
      "Total = 400\n",
      "Number of students who have chance for admission = 367\n",
      "Percentage of chance of admission = 91.75 %\n",
      "Number of students who do not have chance for admission = 33\n",
      "Percentage of no chance of admission = 8.25 %\n"
     ]
    }
   ],
   "source": [
    "print(\"Total =\", len(training_set))\n",
    "\n",
    "print(\"Number of students who have chance for admission =\", len(Chance))\n",
    "print(\"Percentage of chance of admission =\", 1.*len(Chance)/len(training_set)*100.0, \"%\")\n",
    " \n",
    "print(\"Number of students who do not have chance for admission =\", len(No_chance))\n",
    "print(\"Percentage of no chance of admission =\", 1.*len(No_chance)/len(training_set)*100.0, \"%\")"
   ]
  },
  {
   "cell_type": "code",
   "execution_count": 12,
   "metadata": {},
   "outputs": [
    {
     "data": {
      "text/plain": [
       "<matplotlib.axes._subplots.AxesSubplot at 0x1a1f753df88>"
      ]
     },
     "execution_count": 12,
     "metadata": {},
     "output_type": "execute_result"
    },
    {
     "data": {
      "image/png": "[encoded data removed]",
      "text/plain": [
       "<Figure size 432x288 with 2 Axes>"
      ]
     },
     "metadata": {
      "needs_background": "light"
     },
     "output_type": "display_data"
    }
   ],
   "source": [
    "corr=training_set.corr()\n",
    "sns.heatmap(corr,annot=True,cmap=\"coolwarm\")"
   ]
  },
  {
   "cell_type": "code",
   "execution_count": 13,
   "metadata": {},
   "outputs": [
    {
     "data": {
      "text/plain": [
       "<matplotlib.axes._subplots.AxesSubplot at 0x1a1f7c88f08>"
      ]
     },
     "execution_count": 13,
     "metadata": {},
     "output_type": "execute_result"
    },
    {
     "data": {
      "image/png": "[encoded data removed]",
      "text/plain": [
       "<Figure size 432x288 with 1 Axes>"
      ]
     },
     "metadata": {
      "needs_background": "light"
     },
     "output_type": "display_data"
    }
   ],
   "source": [
    "sns.regplot(training_set['GRE Score'],training_set['Chance of Admit'])"
   ]
  },
  {
   "cell_type": "code",
   "execution_count": 14,
   "metadata": {},
   "outputs": [
    {
     "data": {
      "text/plain": [
       "<matplotlib.axes._subplots.AxesSubplot at 0x1a1f7e95a88>"
      ]
     },
     "execution_count": 14,
     "metadata": {},
     "output_type": "execute_result"
    },
    {
     "data": {
      "image/png": "[encoded data removed]",
      "text/plain": [
       "<Figure size 432x288 with 1 Axes>"
      ]
     },
     "metadata": {
      "needs_background": "light"
     },
     "output_type": "display_data"
    }
   ],
   "source": [
    "sns.regplot(training_set['CGPA'],training_set['Chance of Admit'])"
   ]
  },
  {
   "cell_type": "code",
   "execution_count": 15,
   "metadata": {},
   "outputs": [
    {
     "data": {
      "text/plain": [
       "<matplotlib.axes._subplots.AxesSubplot at 0x1a1f7ef2288>"
      ]
     },
     "execution_count": 15,
     "metadata": {},
     "output_type": "execute_result"
    },
    {
     "data": {
      "image/png": "[encoded data removed]",
      "text/plain": [
       "<Figure size 432x288 with 1 Axes>"
      ]
     },
     "metadata": {
      "needs_background": "light"
     },
     "output_type": "display_data"
    }
   ],
   "source": [
    "sns.scatterplot(training_set['GRE Score'], training_set['CGPA'], hue = training_set['Chance'])"
   ]
  },
  {
   "cell_type": "code",
   "execution_count": 16,
   "metadata": {},
   "outputs": [
    {
     "data": {
      "text/plain": [
       "<matplotlib.axes._subplots.AxesSubplot at 0x1a1f7f86d48>"
      ]
     },
     "execution_count": 16,
     "metadata": {},
     "output_type": "execute_result"
    },
    {
     "data": {
      "image/png": "[encoded data removed]",
      "text/plain": [
       "<Figure size 360x360 with 1 Axes>"
      ]
     },
     "metadata": {
      "needs_background": "light"
     },
     "output_type": "display_data"
    }
   ],
   "source": [
    "plt.figure(figsize=(5, 5))\n",
    "sns.boxplot(x='Chance', y='CGPA',data=training_set)"
   ]
  },
  {
   "cell_type": "code",
   "execution_count": 17,
   "metadata": {},
   "outputs": [
    {
     "data": {
      "text/plain": [
       "<matplotlib.axes._subplots.AxesSubplot at 0x1a1f7f10f48>"
      ]
     },
     "execution_count": 17,
     "metadata": {},
     "output_type": "execute_result"
    },
    {
     "data": {
      "image/png": "[encoded data removed]",
      "text/plain": [
       "<Figure size 360x360 with 1 Axes>"
      ]
     },
     "metadata": {
      "needs_background": "light"
     },
     "output_type": "display_data"
    }
   ],
   "source": [
    "plt.figure(figsize=(5, 5))\n",
    "sns.boxplot(x='Chance', y='GRE Score',data=training_set)"
   ]
  },
  {
   "cell_type": "code",
   "execution_count": 18,
   "metadata": {},
   "outputs": [
    {
     "data": {
      "text/plain": [
       "<matplotlib.axes._subplots.AxesSubplot at 0x1a1f80584c8>"
      ]
     },
     "execution_count": 18,
     "metadata": {},
     "output_type": "execute_result"
    },
    {
     "data": {
      "image/png": "[encoded data removed]",
      "text/plain": [
       "<Figure size 432x288 with 1 Axes>"
      ]
     },
     "metadata": {
      "needs_background": "light"
     },
     "output_type": "display_data"
    }
   ],
   "source": [
    "training_set['CGPA'].hist(bins = 40)"
   ]
  },
  {
   "cell_type": "code",
   "execution_count": 19,
   "metadata": {},
   "outputs": [
    {
     "data": {
      "text/plain": [
       "<matplotlib.axes._subplots.AxesSubplot at 0x1a1f81a5f48>"
      ]
     },
     "execution_count": 19,
     "metadata": {},
     "output_type": "execute_result"
    },
    {
     "data": {
      "image/png": "[encoded data removed]",
      "text/plain": [
       "<Figure size 432x288 with 1 Axes>"
      ]
     },
     "metadata": {
      "needs_background": "light"
     },
     "output_type": "display_data"
    }
   ],
   "source": [
    "training_set['GRE Score'].hist(bins = 20)"
   ]
  },
  {
   "cell_type": "markdown",
   "metadata": {},
   "source": [
    "# STEP #3: PREPARING THE DATA FOR TRAINING/ DATA CLEANING "
   ]
  },
  {
   "cell_type": "code",
   "execution_count": 20,
   "metadata": {},
   "outputs": [
    {
     "data": {
      "text/html": [
       "<div>\n",
       "<style scoped>\n",
       "    .dataframe tbody tr th:only-of-type {\n",
       "        vertical-align: middle;\n",
       "    }\n",
       "\n",
       "    .dataframe tbody tr th {\n",
       "        vertical-align: top;\n",
       "    }\n",
       "\n",
       "    .dataframe thead th {\n",
       "        text-align: right;\n",
       "    }\n",
       "</style>\n",
       "<table border=\"1\" class=\"dataframe\">\n",
       "  <thead>\n",
       "    <tr style=\"text-align: right;\">\n",
       "      <th></th>\n",
       "      <th>Serial No.</th>\n",
       "      <th>GRE Score</th>\n",
       "      <th>TOEFL Score</th>\n",
       "      <th>University Rating</th>\n",
       "      <th>SOP</th>\n",
       "      <th>LOR</th>\n",
       "      <th>CGPA</th>\n",
       "      <th>Research</th>\n",
       "      <th>Chance of Admit</th>\n",
       "      <th>Chance</th>\n",
       "    </tr>\n",
       "  </thead>\n",
       "  <tbody>\n",
       "    <tr>\n",
       "      <th>0</th>\n",
       "      <td>1</td>\n",
       "      <td>337</td>\n",
       "      <td>118</td>\n",
       "      <td>4</td>\n",
       "      <td>4.5</td>\n",
       "      <td>4.5</td>\n",
       "      <td>9.65</td>\n",
       "      <td>1</td>\n",
       "      <td>0.92</td>\n",
       "      <td>1</td>\n",
       "    </tr>\n",
       "    <tr>\n",
       "      <th>1</th>\n",
       "      <td>2</td>\n",
       "      <td>324</td>\n",
       "      <td>107</td>\n",
       "      <td>4</td>\n",
       "      <td>4.0</td>\n",
       "      <td>4.5</td>\n",
       "      <td>8.87</td>\n",
       "      <td>1</td>\n",
       "      <td>0.76</td>\n",
       "      <td>1</td>\n",
       "    </tr>\n",
       "    <tr>\n",
       "      <th>2</th>\n",
       "      <td>3</td>\n",
       "      <td>316</td>\n",
       "      <td>104</td>\n",
       "      <td>3</td>\n",
       "      <td>3.0</td>\n",
       "      <td>3.5</td>\n",
       "      <td>8.00</td>\n",
       "      <td>1</td>\n",
       "      <td>0.72</td>\n",
       "      <td>1</td>\n",
       "    </tr>\n",
       "    <tr>\n",
       "      <th>3</th>\n",
       "      <td>4</td>\n",
       "      <td>322</td>\n",
       "      <td>110</td>\n",
       "      <td>3</td>\n",
       "      <td>3.5</td>\n",
       "      <td>2.5</td>\n",
       "      <td>8.67</td>\n",
       "      <td>1</td>\n",
       "      <td>0.80</td>\n",
       "      <td>1</td>\n",
       "    </tr>\n",
       "    <tr>\n",
       "      <th>4</th>\n",
       "      <td>5</td>\n",
       "      <td>314</td>\n",
       "      <td>103</td>\n",
       "      <td>2</td>\n",
       "      <td>2.0</td>\n",
       "      <td>3.0</td>\n",
       "      <td>8.21</td>\n",
       "      <td>0</td>\n",
       "      <td>0.65</td>\n",
       "      <td>1</td>\n",
       "    </tr>\n",
       "    <tr>\n",
       "      <th>...</th>\n",
       "      <td>...</td>\n",
       "      <td>...</td>\n",
       "      <td>...</td>\n",
       "      <td>...</td>\n",
       "      <td>...</td>\n",
       "      <td>...</td>\n",
       "      <td>...</td>\n",
       "      <td>...</td>\n",
       "      <td>...</td>\n",
       "      <td>...</td>\n",
       "    </tr>\n",
       "    <tr>\n",
       "      <th>395</th>\n",
       "      <td>396</td>\n",
       "      <td>324</td>\n",
       "      <td>110</td>\n",
       "      <td>3</td>\n",
       "      <td>3.5</td>\n",
       "      <td>3.5</td>\n",
       "      <td>9.04</td>\n",
       "      <td>1</td>\n",
       "      <td>0.82</td>\n",
       "      <td>1</td>\n",
       "    </tr>\n",
       "    <tr>\n",
       "      <th>396</th>\n",
       "      <td>397</td>\n",
       "      <td>325</td>\n",
       "      <td>107</td>\n",
       "      <td>3</td>\n",
       "      <td>3.0</td>\n",
       "      <td>3.5</td>\n",
       "      <td>9.11</td>\n",
       "      <td>1</td>\n",
       "      <td>0.84</td>\n",
       "      <td>1</td>\n",
       "    </tr>\n",
       "    <tr>\n",
       "      <th>397</th>\n",
       "      <td>398</td>\n",
       "      <td>330</td>\n",
       "      <td>116</td>\n",
       "      <td>4</td>\n",
       "      <td>5.0</td>\n",
       "      <td>4.5</td>\n",
       "      <td>9.45</td>\n",
       "      <td>1</td>\n",
       "      <td>0.91</td>\n",
       "      <td>1</td>\n",
       "    </tr>\n",
       "    <tr>\n",
       "      <th>398</th>\n",
       "      <td>399</td>\n",
       "      <td>312</td>\n",
       "      <td>103</td>\n",
       "      <td>3</td>\n",
       "      <td>3.5</td>\n",
       "      <td>4.0</td>\n",
       "      <td>8.78</td>\n",
       "      <td>0</td>\n",
       "      <td>0.67</td>\n",
       "      <td>1</td>\n",
       "    </tr>\n",
       "    <tr>\n",
       "      <th>399</th>\n",
       "      <td>400</td>\n",
       "      <td>333</td>\n",
       "      <td>117</td>\n",
       "      <td>4</td>\n",
       "      <td>5.0</td>\n",
       "      <td>4.0</td>\n",
       "      <td>9.66</td>\n",
       "      <td>1</td>\n",
       "      <td>0.95</td>\n",
       "      <td>1</td>\n",
       "    </tr>\n",
       "  </tbody>\n",
       "</table>\n",
       "<p>400 rows × 10 columns</p>\n",
       "</div>"
      ],
      "text/plain": [
       "     Serial No.  GRE Score  TOEFL Score  University Rating  SOP  LOR  CGPA  \\\n",
       "0             1        337          118                  4  4.5  4.5  9.65   \n",
       "1             2        324          107                  4  4.0  4.5  8.87   \n",
       "2             3        316          104                  3  3.0  3.5  8.00   \n",
       "3             4        322          110                  3  3.5  2.5  8.67   \n",
       "4             5        314          103                  2  2.0  3.0  8.21   \n",
       "..          ...        ...          ...                ...  ...  ...   ...   \n",
       "395         396        324          110                  3  3.5  3.5  9.04   \n",
       "396         397        325          107                  3  3.0  3.5  9.11   \n",
       "397         398        330          116                  4  5.0  4.5  9.45   \n",
       "398         399        312          103                  3  3.5  4.0  8.78   \n",
       "399         400        333          117                  4  5.0  4.0  9.66   \n",
       "\n",
       "     Research  Chance of Admit  Chance  \n",
       "0           1             0.92       1  \n",
       "1           1             0.76       1  \n",
       "2           1             0.72       1  \n",
       "3           1             0.80       1  \n",
       "4           0             0.65       1  \n",
       "..        ...              ...     ...  \n",
       "395         1             0.82       1  \n",
       "396         1             0.84       1  \n",
       "397         1             0.91       1  \n",
       "398         0             0.67       1  \n",
       "399         1             0.95       1  \n",
       "\n",
       "[400 rows x 10 columns]"
      ]
     },
     "execution_count": 20,
     "metadata": {},
     "output_type": "execute_result"
    }
   ],
   "source": [
    "training_set"
   ]
  },
  {
   "cell_type": "code",
   "execution_count": 21,
   "metadata": {},
   "outputs": [],
   "source": [
    "training_set.drop(['Serial No.', 'TOEFL Score', 'University Rating', 'SOP', 'LOR' , 'Research', 'Chance of Admit'],axis=1,inplace=True)"
   ]
  },
  {
   "cell_type": "code",
   "execution_count": 22,
   "metadata": {},
   "outputs": [
    {
     "data": {
      "text/html": [
       "<div>\n",
       "<style scoped>\n",
       "    .dataframe tbody tr th:only-of-type {\n",
       "        vertical-align: middle;\n",
       "    }\n",
       "\n",
       "    .dataframe tbody tr th {\n",
       "        vertical-align: top;\n",
       "    }\n",
       "\n",
       "    .dataframe thead th {\n",
       "        text-align: right;\n",
       "    }\n",
       "</style>\n",
       "<table border=\"1\" class=\"dataframe\">\n",
       "  <thead>\n",
       "    <tr style=\"text-align: right;\">\n",
       "      <th></th>\n",
       "      <th>GRE Score</th>\n",
       "      <th>CGPA</th>\n",
       "      <th>Chance</th>\n",
       "    </tr>\n",
       "  </thead>\n",
       "  <tbody>\n",
       "    <tr>\n",
       "      <th>0</th>\n",
       "      <td>337</td>\n",
       "      <td>9.65</td>\n",
       "      <td>1</td>\n",
       "    </tr>\n",
       "    <tr>\n",
       "      <th>1</th>\n",
       "      <td>324</td>\n",
       "      <td>8.87</td>\n",
       "      <td>1</td>\n",
       "    </tr>\n",
       "    <tr>\n",
       "      <th>2</th>\n",
       "      <td>316</td>\n",
       "      <td>8.00</td>\n",
       "      <td>1</td>\n",
       "    </tr>\n",
       "    <tr>\n",
       "      <th>3</th>\n",
       "      <td>322</td>\n",
       "      <td>8.67</td>\n",
       "      <td>1</td>\n",
       "    </tr>\n",
       "    <tr>\n",
       "      <th>4</th>\n",
       "      <td>314</td>\n",
       "      <td>8.21</td>\n",
       "      <td>1</td>\n",
       "    </tr>\n",
       "    <tr>\n",
       "      <th>...</th>\n",
       "      <td>...</td>\n",
       "      <td>...</td>\n",
       "      <td>...</td>\n",
       "    </tr>\n",
       "    <tr>\n",
       "      <th>395</th>\n",
       "      <td>324</td>\n",
       "      <td>9.04</td>\n",
       "      <td>1</td>\n",
       "    </tr>\n",
       "    <tr>\n",
       "      <th>396</th>\n",
       "      <td>325</td>\n",
       "      <td>9.11</td>\n",
       "      <td>1</td>\n",
       "    </tr>\n",
       "    <tr>\n",
       "      <th>397</th>\n",
       "      <td>330</td>\n",
       "      <td>9.45</td>\n",
       "      <td>1</td>\n",
       "    </tr>\n",
       "    <tr>\n",
       "      <th>398</th>\n",
       "      <td>312</td>\n",
       "      <td>8.78</td>\n",
       "      <td>1</td>\n",
       "    </tr>\n",
       "    <tr>\n",
       "      <th>399</th>\n",
       "      <td>333</td>\n",
       "      <td>9.66</td>\n",
       "      <td>1</td>\n",
       "    </tr>\n",
       "  </tbody>\n",
       "</table>\n",
       "<p>400 rows × 3 columns</p>\n",
       "</div>"
      ],
      "text/plain": [
       "     GRE Score  CGPA  Chance\n",
       "0          337  9.65       1\n",
       "1          324  8.87       1\n",
       "2          316  8.00       1\n",
       "3          322  8.67       1\n",
       "4          314  8.21       1\n",
       "..         ...   ...     ...\n",
       "395        324  9.04       1\n",
       "396        325  9.11       1\n",
       "397        330  9.45       1\n",
       "398        312  8.78       1\n",
       "399        333  9.66       1\n",
       "\n",
       "[400 rows x 3 columns]"
      ]
     },
     "execution_count": 22,
     "metadata": {},
     "output_type": "execute_result"
    }
   ],
   "source": [
    "training_set"
   ]
  },
  {
   "cell_type": "code",
   "execution_count": 23,
   "metadata": {},
   "outputs": [],
   "source": [
    "#Let's drop the target coloumn before we do train test split\n",
    "X = training_set.drop('Chance',axis=1).values\n",
    "Y = training_set['Chance'].values"
   ]
  },
  {
   "cell_type": "code",
   "execution_count": 24,
   "metadata": {},
   "outputs": [
    {
     "data": {
      "text/plain": [
       "array([[337.  ,   9.65],\n",
       "       [324.  ,   8.87],\n",
       "       [316.  ,   8.  ],\n",
       "       [322.  ,   8.67],\n",
       "       [314.  ,   8.21],\n",
       "       [330.  ,   9.34],\n",
       "       [321.  ,   8.2 ],\n",
       "       [308.  ,   7.9 ],\n",
       "       [302.  ,   8.  ],\n",
       "       [323.  ,   8.6 ],\n",
       "       [325.  ,   8.4 ],\n",
       "       [327.  ,   9.  ],\n",
       "       [328.  ,   9.1 ],\n",
       "       [307.  ,   8.  ],\n",
       "       [311.  ,   8.2 ],\n",
       "       [314.  ,   8.3 ],\n",
       "       [317.  ,   8.7 ],\n",
       "       [319.  ,   8.  ],\n",
       "       [318.  ,   8.8 ],\n",
       "       [303.  ,   8.5 ],\n",
       "       [312.  ,   7.9 ],\n",
       "       [325.  ,   8.4 ],\n",
       "       [328.  ,   9.5 ],\n",
       "       [334.  ,   9.7 ],\n",
       "       [336.  ,   9.8 ],\n",
       "       [340.  ,   9.6 ],\n",
       "       [322.  ,   8.8 ],\n",
       "       [298.  ,   7.5 ],\n",
       "       [295.  ,   7.2 ],\n",
       "       [310.  ,   7.3 ],\n",
       "       [300.  ,   8.1 ],\n",
       "       [327.  ,   8.3 ],\n",
       "       [338.  ,   9.4 ],\n",
       "       [340.  ,   9.6 ],\n",
       "       [331.  ,   9.8 ],\n",
       "       [320.  ,   9.2 ],\n",
       "       [299.  ,   8.4 ],\n",
       "       [300.  ,   7.8 ],\n",
       "       [304.  ,   7.5 ],\n",
       "       [307.  ,   7.7 ],\n",
       "       [308.  ,   8.  ],\n",
       "       [316.  ,   8.2 ],\n",
       "       [313.  ,   8.5 ],\n",
       "       [332.  ,   9.1 ],\n",
       "       [326.  ,   9.4 ],\n",
       "       [322.  ,   9.1 ],\n",
       "       [329.  ,   9.3 ],\n",
       "       [339.  ,   9.7 ],\n",
       "       [321.  ,   8.85],\n",
       "       [327.  ,   8.4 ],\n",
       "       [313.  ,   8.3 ],\n",
       "       [312.  ,   7.9 ],\n",
       "       [334.  ,   8.  ],\n",
       "       [324.  ,   8.1 ],\n",
       "       [322.  ,   8.  ],\n",
       "       [320.  ,   7.7 ],\n",
       "       [316.  ,   7.4 ],\n",
       "       [298.  ,   7.6 ],\n",
       "       [300.  ,   6.8 ],\n",
       "       [311.  ,   8.3 ],\n",
       "       [309.  ,   8.1 ],\n",
       "       [307.  ,   8.2 ],\n",
       "       [304.  ,   8.2 ],\n",
       "       [315.  ,   8.5 ],\n",
       "       [325.  ,   8.7 ],\n",
       "       [325.  ,   8.92],\n",
       "       [327.  ,   9.02],\n",
       "       [316.  ,   8.64],\n",
       "       [318.  ,   9.22],\n",
       "       [328.  ,   9.16],\n",
       "       [332.  ,   9.64],\n",
       "       [336.  ,   9.76],\n",
       "       [321.  ,   9.45],\n",
       "       [314.  ,   9.04],\n",
       "       [314.  ,   8.9 ],\n",
       "       [329.  ,   8.56],\n",
       "       [327.  ,   8.72],\n",
       "       [301.  ,   8.22],\n",
       "       [296.  ,   7.54],\n",
       "       [294.  ,   7.36],\n",
       "       [312.  ,   8.02],\n",
       "       [340.  ,   9.5 ],\n",
       "       [320.  ,   9.22],\n",
       "       [322.  ,   9.36],\n",
       "       [340.  ,   9.45],\n",
       "       [319.  ,   8.66],\n",
       "       [315.  ,   8.42],\n",
       "       [317.  ,   8.28],\n",
       "       [314.  ,   8.14],\n",
       "       [316.  ,   8.76],\n",
       "       [318.  ,   7.92],\n",
       "       [299.  ,   7.66],\n",
       "       [298.  ,   8.03],\n",
       "       [301.  ,   7.88],\n",
       "       [303.  ,   7.66],\n",
       "       [304.  ,   7.84],\n",
       "       [306.  ,   8.  ],\n",
       "       [331.  ,   8.96],\n",
       "       [332.  ,   9.24],\n",
       "       [323.  ,   8.88],\n",
       "       [322.  ,   8.46],\n",
       "       [312.  ,   8.12],\n",
       "       [314.  ,   8.25],\n",
       "       [317.  ,   8.47],\n",
       "       [326.  ,   9.05],\n",
       "       [316.  ,   8.78],\n",
       "       [329.  ,   9.18],\n",
       "       [338.  ,   9.46],\n",
       "       [331.  ,   9.38],\n",
       "       [304.  ,   8.64],\n",
       "       [305.  ,   8.48],\n",
       "       [321.  ,   8.68],\n",
       "       [301.  ,   8.34],\n",
       "       [320.  ,   8.56],\n",
       "       [311.  ,   8.45],\n",
       "       [310.  ,   9.04],\n",
       "       [299.  ,   8.62],\n",
       "       [290.  ,   7.46],\n",
       "       [296.  ,   7.28],\n",
       "       [327.  ,   8.84],\n",
       "       [335.  ,   9.56],\n",
       "       [334.  ,   9.48],\n",
       "       [310.  ,   8.36],\n",
       "       [308.  ,   8.22],\n",
       "       [301.  ,   8.47],\n",
       "       [300.  ,   8.66],\n",
       "       [323.  ,   9.32],\n",
       "       [319.  ,   8.71],\n",
       "       [326.  ,   9.1 ],\n",
       "       [333.  ,   9.35],\n",
       "       [339.  ,   9.76],\n",
       "       [303.  ,   8.65],\n",
       "       [309.  ,   8.56],\n",
       "       [323.  ,   8.78],\n",
       "       [333.  ,   9.28],\n",
       "       [314.  ,   8.77],\n",
       "       [312.  ,   8.45],\n",
       "       [316.  ,   8.16],\n",
       "       [326.  ,   9.08],\n",
       "       [318.  ,   9.12],\n",
       "       [329.  ,   9.15],\n",
       "       [332.  ,   9.36],\n",
       "       [331.  ,   9.44],\n",
       "       [340.  ,   9.92],\n",
       "       [325.  ,   8.96],\n",
       "       [320.  ,   8.64],\n",
       "       [315.  ,   8.48],\n",
       "       [326.  ,   9.11],\n",
       "       [339.  ,   9.8 ],\n",
       "       [311.  ,   8.26],\n",
       "       [334.  ,   9.43],\n",
       "       [332.  ,   9.28],\n",
       "       [321.  ,   9.06],\n",
       "       [324.  ,   8.75],\n",
       "       [326.  ,   8.89],\n",
       "       [312.  ,   8.69],\n",
       "       [315.  ,   8.34],\n",
       "       [309.  ,   8.26],\n",
       "       [306.  ,   8.14],\n",
       "       [297.  ,   7.9 ],\n",
       "       [315.  ,   7.86],\n",
       "       [298.  ,   7.46],\n",
       "       [318.  ,   8.5 ],\n",
       "       [317.  ,   8.56],\n",
       "       [329.  ,   9.01],\n",
       "       [322.  ,   8.97],\n",
       "       [302.  ,   8.33],\n",
       "       [313.  ,   8.27],\n",
       "       [293.  ,   7.8 ],\n",
       "       [311.  ,   7.98],\n",
       "       [312.  ,   8.04],\n",
       "       [334.  ,   9.07],\n",
       "       [322.  ,   9.13],\n",
       "       [323.  ,   9.23],\n",
       "       [321.  ,   8.97],\n",
       "       [320.  ,   8.87],\n",
       "       [329.  ,   9.16],\n",
       "       [319.  ,   9.04],\n",
       "       [309.  ,   8.12],\n",
       "       [307.  ,   8.27],\n",
       "       [300.  ,   8.16],\n",
       "       [305.  ,   8.42],\n",
       "       [299.  ,   7.88],\n",
       "       [314.  ,   8.8 ],\n",
       "       [316.  ,   8.32],\n",
       "       [327.  ,   9.11],\n",
       "       [317.  ,   8.68],\n",
       "       [335.  ,   9.44],\n",
       "       [331.  ,   9.36],\n",
       "       [324.  ,   9.08],\n",
       "       [324.  ,   9.16],\n",
       "       [323.  ,   8.98],\n",
       "       [322.  ,   8.94],\n",
       "       [336.  ,   9.53],\n",
       "       [316.  ,   8.76],\n",
       "       [307.  ,   8.52],\n",
       "       [306.  ,   8.26],\n",
       "       [310.  ,   8.33],\n",
       "       [311.  ,   8.43],\n",
       "       [313.  ,   8.69],\n",
       "       [317.  ,   8.54],\n",
       "       [315.  ,   8.46],\n",
       "       [340.  ,   9.91],\n",
       "       [334.  ,   9.87],\n",
       "       [298.  ,   8.54],\n",
       "       [295.  ,   7.65],\n",
       "       [315.  ,   7.89],\n",
       "       [310.  ,   8.02],\n",
       "       [305.  ,   8.16],\n",
       "       [301.  ,   8.12],\n",
       "       [325.  ,   9.06],\n",
       "       [328.  ,   9.14],\n",
       "       [338.  ,   9.66],\n",
       "       [333.  ,   9.78],\n",
       "       [331.  ,   9.42],\n",
       "       [330.  ,   9.36],\n",
       "       [322.  ,   9.26],\n",
       "       [321.  ,   9.13],\n",
       "       [324.  ,   8.97],\n",
       "       [312.  ,   8.42],\n",
       "       [313.  ,   8.75],\n",
       "       [316.  ,   8.56],\n",
       "       [324.  ,   8.79],\n",
       "       [308.  ,   8.45],\n",
       "       [305.  ,   8.23],\n",
       "       [296.  ,   8.03],\n",
       "       [306.  ,   8.45],\n",
       "       [312.  ,   8.53],\n",
       "       [318.  ,   8.67],\n",
       "       [324.  ,   9.01],\n",
       "       [313.  ,   8.65],\n",
       "       [319.  ,   8.33],\n",
       "       [312.  ,   8.27],\n",
       "       [304.  ,   8.07],\n",
       "       [330.  ,   9.31],\n",
       "       [326.  ,   9.23],\n",
       "       [325.  ,   9.17],\n",
       "       [329.  ,   9.19],\n",
       "       [310.  ,   8.37],\n",
       "       [299.  ,   7.89],\n",
       "       [296.  ,   7.68],\n",
       "       [317.  ,   8.15],\n",
       "       [324.  ,   8.76],\n",
       "       [325.  ,   9.04],\n",
       "       [314.  ,   8.56],\n",
       "       [328.  ,   9.02],\n",
       "       [316.  ,   8.73],\n",
       "       [311.  ,   8.48],\n",
       "       [324.  ,   8.87],\n",
       "       [321.  ,   8.83],\n",
       "       [320.  ,   8.57],\n",
       "       [316.  ,   9.  ],\n",
       "       [318.  ,   8.54],\n",
       "       [335.  ,   9.68],\n",
       "       [321.  ,   9.12],\n",
       "       [307.  ,   8.37],\n",
       "       [309.  ,   8.56],\n",
       "       [324.  ,   8.64],\n",
       "       [326.  ,   8.76],\n",
       "       [331.  ,   9.34],\n",
       "       [327.  ,   9.13],\n",
       "       [312.  ,   8.09],\n",
       "       [308.  ,   8.36],\n",
       "       [324.  ,   8.79],\n",
       "       [325.  ,   8.76],\n",
       "       [313.  ,   8.68],\n",
       "       [312.  ,   8.45],\n",
       "       [314.  ,   8.17],\n",
       "       [327.  ,   9.14],\n",
       "       [308.  ,   8.34],\n",
       "       [306.  ,   8.22],\n",
       "       [299.  ,   7.86],\n",
       "       [294.  ,   7.64],\n",
       "       [312.  ,   8.01],\n",
       "       [315.  ,   7.95],\n",
       "       [322.  ,   8.96],\n",
       "       [329.  ,   9.45],\n",
       "       [320.  ,   8.62],\n",
       "       [308.  ,   8.49],\n",
       "       [304.  ,   8.73],\n",
       "       [311.  ,   8.64],\n",
       "       [317.  ,   9.11],\n",
       "       [312.  ,   8.79],\n",
       "       [321.  ,   8.9 ],\n",
       "       [340.  ,   9.66],\n",
       "       [331.  ,   9.26],\n",
       "       [336.  ,   9.19],\n",
       "       [324.  ,   9.08],\n",
       "       [314.  ,   9.02],\n",
       "       [313.  ,   9.  ],\n",
       "       [307.  ,   7.65],\n",
       "       [300.  ,   7.87],\n",
       "       [302.  ,   7.97],\n",
       "       [312.  ,   8.18],\n",
       "       [316.  ,   8.32],\n",
       "       [317.  ,   8.57],\n",
       "       [310.  ,   8.67],\n",
       "       [320.  ,   9.11],\n",
       "       [330.  ,   9.24],\n",
       "       [305.  ,   8.65],\n",
       "       [309.  ,   8.  ],\n",
       "       [319.  ,   8.76],\n",
       "       [322.  ,   8.45],\n",
       "       [323.  ,   8.55],\n",
       "       [313.  ,   8.43],\n",
       "       [321.  ,   8.8 ],\n",
       "       [323.  ,   9.1 ],\n",
       "       [325.  ,   9.  ],\n",
       "       [312.  ,   8.53],\n",
       "       [308.  ,   8.6 ],\n",
       "       [320.  ,   8.74],\n",
       "       [328.  ,   9.18],\n",
       "       [311.  ,   9.  ],\n",
       "       [301.  ,   8.04],\n",
       "       [305.  ,   8.13],\n",
       "       [308.  ,   8.07],\n",
       "       [298.  ,   7.86],\n",
       "       [300.  ,   8.01],\n",
       "       [324.  ,   8.8 ],\n",
       "       [327.  ,   8.69],\n",
       "       [317.  ,   8.5 ],\n",
       "       [323.  ,   8.44],\n",
       "       [314.  ,   8.27],\n",
       "       [305.  ,   8.18],\n",
       "       [315.  ,   8.33],\n",
       "       [326.  ,   9.14],\n",
       "       [299.  ,   8.02],\n",
       "       [295.  ,   7.86],\n",
       "       [324.  ,   8.77],\n",
       "       [297.  ,   7.89],\n",
       "       [327.  ,   8.66],\n",
       "       [311.  ,   8.12],\n",
       "       [308.  ,   8.21],\n",
       "       [319.  ,   8.54],\n",
       "       [312.  ,   8.65],\n",
       "       [325.  ,   9.11],\n",
       "       [319.  ,   8.79],\n",
       "       [332.  ,   9.47],\n",
       "       [323.  ,   8.74],\n",
       "       [324.  ,   8.66],\n",
       "       [312.  ,   8.46],\n",
       "       [326.  ,   8.76],\n",
       "       [308.  ,   8.24],\n",
       "       [305.  ,   8.13],\n",
       "       [295.  ,   7.34],\n",
       "       [316.  ,   7.43],\n",
       "       [304.  ,   7.64],\n",
       "       [299.  ,   7.34],\n",
       "       [302.  ,   7.25],\n",
       "       [313.  ,   8.04],\n",
       "       [318.  ,   8.27],\n",
       "       [325.  ,   8.67],\n",
       "       [303.  ,   8.06],\n",
       "       [300.  ,   8.17],\n",
       "       [297.  ,   7.67],\n",
       "       [317.  ,   8.12],\n",
       "       [327.  ,   8.77],\n",
       "       [301.  ,   7.89],\n",
       "       [314.  ,   7.64],\n",
       "       [321.  ,   8.44],\n",
       "       [322.  ,   8.64],\n",
       "       [334.  ,   9.54],\n",
       "       [338.  ,   9.23],\n",
       "       [306.  ,   8.36],\n",
       "       [313.  ,   8.9 ],\n",
       "       [330.  ,   9.17],\n",
       "       [320.  ,   8.34],\n",
       "       [311.  ,   7.46],\n",
       "       [298.  ,   7.88],\n",
       "       [301.  ,   8.03],\n",
       "       [310.  ,   8.24],\n",
       "       [324.  ,   9.22],\n",
       "       [336.  ,   9.62],\n",
       "       [321.  ,   8.54],\n",
       "       [315.  ,   7.65],\n",
       "       [304.  ,   7.66],\n",
       "       [297.  ,   7.43],\n",
       "       [290.  ,   7.56],\n",
       "       [303.  ,   7.65],\n",
       "       [311.  ,   8.43],\n",
       "       [322.  ,   8.84],\n",
       "       [319.  ,   8.67],\n",
       "       [324.  ,   9.15],\n",
       "       [300.  ,   8.26],\n",
       "       [340.  ,   9.74],\n",
       "       [335.  ,   9.82],\n",
       "       [302.  ,   7.96],\n",
       "       [307.  ,   8.1 ],\n",
       "       [296.  ,   7.8 ],\n",
       "       [320.  ,   8.44],\n",
       "       [314.  ,   8.24],\n",
       "       [318.  ,   8.65],\n",
       "       [326.  ,   9.12],\n",
       "       [317.  ,   8.76],\n",
       "       [329.  ,   9.23],\n",
       "       [324.  ,   9.04],\n",
       "       [325.  ,   9.11],\n",
       "       [330.  ,   9.45],\n",
       "       [312.  ,   8.78],\n",
       "       [333.  ,   9.66]])"
      ]
     },
     "execution_count": 24,
     "metadata": {},
     "output_type": "execute_result"
    }
   ],
   "source": [
    "X"
   ]
  },
  {
   "cell_type": "code",
   "execution_count": 25,
   "metadata": {},
   "outputs": [
    {
     "data": {
      "text/plain": [
       "array([1, 1, 1, 1, 1, 1, 1, 1, 1, 0, 1, 1, 1, 1, 1, 1, 1, 1, 1, 1, 1, 1,\n",
       "       1, 1, 1, 1, 1, 0, 0, 1, 1, 1, 1, 1, 1, 1, 1, 1, 1, 0, 0, 0, 1, 1,\n",
       "       1, 1, 1, 1, 1, 1, 1, 1, 1, 1, 1, 1, 1, 0, 0, 0, 0, 0, 1, 1, 1, 1,\n",
       "       1, 1, 1, 1, 1, 1, 1, 1, 1, 1, 1, 1, 0, 0, 1, 1, 1, 1, 1, 1, 1, 1,\n",
       "       1, 1, 1, 0, 0, 0, 0, 0, 0, 1, 1, 1, 1, 1, 1, 1, 1, 1, 1, 1, 1, 1,\n",
       "       1, 1, 1, 1, 1, 1, 1, 0, 0, 1, 1, 1, 1, 1, 1, 1, 1, 1, 1, 1, 1, 1,\n",
       "       1, 1, 1, 1, 1, 1, 1, 1, 1, 1, 1, 1, 1, 1, 1, 1, 1, 1, 1, 1, 1, 1,\n",
       "       1, 1, 1, 1, 1, 1, 1, 1, 1, 1, 1, 1, 1, 1, 1, 1, 1, 1, 1, 1, 1, 1,\n",
       "       1, 1, 1, 1, 1, 1, 1, 1, 1, 1, 1, 1, 1, 1, 1, 1, 1, 1, 1, 1, 1, 1,\n",
       "       1, 1, 1, 1, 1, 1, 1, 1, 1, 1, 1, 1, 1, 1, 1, 1, 1, 1, 1, 1, 1, 1,\n",
       "       1, 1, 1, 1, 1, 1, 1, 1, 1, 1, 1, 1, 1, 1, 1, 1, 1, 1, 1, 1, 1, 1,\n",
       "       1, 1, 1, 1, 1, 1, 1, 1, 1, 1, 1, 1, 1, 1, 1, 1, 1, 1, 1, 1, 1, 1,\n",
       "       1, 1, 1, 1, 1, 1, 1, 1, 0, 1, 1, 1, 1, 1, 1, 1, 1, 1, 1, 1, 1, 1,\n",
       "       1, 1, 1, 1, 1, 1, 1, 1, 1, 1, 1, 1, 1, 1, 1, 1, 1, 1, 1, 1, 1, 1,\n",
       "       1, 1, 1, 1, 1, 1, 1, 1, 1, 1, 1, 1, 1, 1, 1, 1, 1, 1, 1, 1, 1, 0,\n",
       "       1, 1, 1, 1, 1, 1, 1, 1, 1, 1, 1, 1, 1, 1, 0, 0, 0, 0, 1, 1, 1, 1,\n",
       "       1, 1, 1, 1, 1, 1, 1, 1, 1, 1, 1, 1, 1, 1, 1, 1, 1, 1, 1, 1, 1, 1,\n",
       "       0, 0, 0, 0, 1, 1, 1, 1, 1, 1, 1, 1, 0, 1, 0, 1, 1, 1, 1, 1, 1, 1,\n",
       "       1, 1, 1, 1], dtype=int64)"
      ]
     },
     "execution_count": 25,
     "metadata": {},
     "output_type": "execute_result"
    }
   ],
   "source": [
    "Y"
   ]
  },
  {
   "cell_type": "code",
   "execution_count": 26,
   "metadata": {},
   "outputs": [],
   "source": [
    "# Feature Scaling\n",
    "from sklearn.preprocessing import StandardScaler\n",
    "sc = StandardScaler()\n",
    "X = sc.fit_transform(X)"
   ]
  },
  {
   "cell_type": "markdown",
   "metadata": {},
   "source": [
    "# STEP#4: MODEL TRAINING"
   ]
  },
  {
   "cell_type": "code",
   "execution_count": 27,
   "metadata": {},
   "outputs": [],
   "source": [
    "from sklearn.model_selection import train_test_split"
   ]
  },
  {
   "cell_type": "code",
   "execution_count": 28,
   "metadata": {},
   "outputs": [],
   "source": [
    "X_train, X_test, Y_train, Y_test = train_test_split(X, Y, test_size=0.2, random_state=0)"
   ]
  },
  {
   "cell_type": "code",
   "execution_count": 29,
   "metadata": {},
   "outputs": [
    {
     "name": "stdout",
     "output_type": "stream",
     "text": [
      "[[-6.81324632e-01 -6.53574212e-02]\n",
      " [-7.68590034e-01  1.80498980e-03]\n",
      " [ 8.02187214e-01  2.70454634e-01]\n",
      " [-9.43120840e-01 -5.69075504e-01]\n",
      " [-7.04668127e-02  2.20082826e-01]\n",
      " [-6.81324632e-01 -8.37725148e-01]\n",
      " [-4.19528424e-01  1.52920415e-01]\n",
      " [-4.19528424e-01 -8.54515751e-01]\n",
      " [ 1.32577963e+00  1.27789080e+00]\n",
      " [ 1.23851423e+00  1.37863442e+00]\n",
      " [-1.46671326e+00 -1.34144323e+00]\n",
      " [ 1.41304503e+00  1.14356598e+00]\n",
      " [ 2.78594798e-01 -6.53574212e-02]\n",
      " [-1.29218245e+00 -2.26492638e+00]\n",
      " [ 9.76718020e-01  8.41335128e-01]\n",
      " [-5.06793826e-01 -5.01913093e-01]\n",
      " [-4.19528424e-01 -7.03400326e-01]\n",
      " [ 1.06398342e+00  9.25288142e-01]\n",
      " [-1.57732215e-01 -1.19032781e+00]\n",
      " [-3.32263021e-01  1.52920415e-01]\n",
      " [ 1.06398342e+00  9.42078744e-01]\n",
      " [ 8.89452617e-01  9.08497539e-01]\n",
      " [-1.37944785e+00 -2.16472846e-01]\n",
      " [-1.90304027e+00 -2.11381096e+00]\n",
      " [ 2.78594798e-01  4.55151264e-01]\n",
      " [-1.37944785e+00 -9.38468765e-01]\n",
      " [-1.81577487e+00 -1.77799890e+00]\n",
      " [-2.44997618e-01 -5.01913093e-01]\n",
      " [ 1.67484124e+00  9.92450553e-01]\n",
      " [-2.44997618e-01 -5.85866107e-01]\n",
      " [-4.19528424e-01 -9.38468765e-01]\n",
      " [ 5.40391006e-01 -8.21480240e-02]\n",
      " [-4.19528424e-01  8.57580036e-02]\n",
      " [-1.81577487e+00 -9.55259368e-01]\n",
      " [ 7.14921812e-01  5.39104278e-01]\n",
      " [ 8.89452617e-01  2.03292223e-01]\n",
      " [ 1.04063993e-01 -1.13995600e+00]\n",
      " [ 5.40391006e-01  1.05961296e+00]\n",
      " [-8.55855437e-01 -5.52284901e-01]\n",
      " [ 1.41304503e+00  1.78160888e+00]\n",
      " [ 4.53125604e-01 -2.33263449e-01]\n",
      " [-2.44997618e-01 -5.52284901e-01]\n",
      " [ 3.65860201e-01 -6.69819121e-01]\n",
      " [ 6.27656409e-01  4.55151264e-01]\n",
      " [ 2.78594798e-01  8.58125731e-01]\n",
      " [ 4.53125604e-01 -1.00563118e+00]\n",
      " [-1.57732215e-01 -1.59330227e+00]\n",
      " [-8.55855437e-01 -3.84378874e-01]\n",
      " [-9.43120840e-01 -7.70562737e-01]\n",
      " [-1.11765165e+00 -8.88096956e-01]\n",
      " [-5.06793826e-01 -1.99682243e-01]\n",
      " [ 7.14921812e-01  6.06266689e-01]\n",
      " [-7.04668127e-02 -4.68331887e-01]\n",
      " [ 1.50031044e+00  7.90963320e-01]\n",
      " [-5.06793826e-01  6.89674008e-02]\n",
      " [ 6.27656409e-01  3.37617045e-01]\n",
      " [ 1.50031044e+00 -1.00563118e+00]\n",
      " [ 7.14921812e-01 -3.34007065e-01]\n",
      " [ 4.53125604e-01  3.37617045e-01]\n",
      " [ 4.53125604e-01  8.41335128e-01]\n",
      " [-2.44997618e-01  5.05523073e-01]\n",
      " [-1.99030567e+00 -1.61009288e+00]\n",
      " [-2.44997618e-01 -6.53028518e-01]\n",
      " [-1.72850946e+00 -1.55972107e+00]\n",
      " [ 5.40391006e-01  6.39847895e-01]\n",
      " [ 6.27656409e-01  1.04282236e+00]\n",
      " [ 2.78594798e-01  6.89674008e-02]\n",
      " [ 1.15124883e+00  1.24430959e+00]\n",
      " [ 8.02187214e-01  4.88732470e-01]\n",
      " [ 2.78594798e-01  2.36873428e-01]\n",
      " [-7.68590034e-01 -1.17353720e+00]\n",
      " [ 8.89452617e-01  8.91706936e-01]\n",
      " [ 1.04063993e-01  1.04282236e+00]\n",
      " [-4.19528424e-01 -1.17353720e+00]\n",
      " [ 1.84937205e+00  1.44579683e+00]\n",
      " [-5.06793826e-01 -6.69819121e-01]\n",
      " [-9.43120840e-01 -4.01169476e-01]\n",
      " [-3.32263021e-01 -2.83635257e-01]\n",
      " [ 1.50031044e+00  1.58012165e+00]\n",
      " [-1.72850946e+00 -1.19032781e+00]]\n"
     ]
    }
   ],
   "source": [
    "print(X_test)"
   ]
  },
  {
   "cell_type": "code",
   "execution_count": 30,
   "metadata": {},
   "outputs": [
    {
     "name": "stdout",
     "output_type": "stream",
     "text": [
      "[1 1 1 1 1 0 1 1 1 1 1 1 1 1 1 0 1 1 1 1 1 1 1 0 1 1 0 1 1 1 1 1 1 1 1 1 1\n",
      " 1 1 1 1 1 1 1 1 1 0 1 1 1 1 1 1 1 1 1 1 1 1 1 1 0 1 1 1 1 1 1 1 1 1 1 1 1\n",
      " 1 1 1 1 1 0]\n"
     ]
    }
   ],
   "source": [
    "print(Y_test)"
   ]
  },
  {
   "cell_type": "markdown",
   "metadata": {},
   "source": [
    "## LOGISTIC REGRESSION"
   ]
  },
  {
   "cell_type": "code",
   "execution_count": 31,
   "metadata": {},
   "outputs": [
    {
     "data": {
      "text/plain": [
       "LogisticRegression(C=1.0, class_weight=None, dual=False, fit_intercept=True,\n",
       "                   intercept_scaling=1, l1_ratio=None, max_iter=100,\n",
       "                   multi_class='auto', n_jobs=None, penalty='l2',\n",
       "                   random_state=0, solver='lbfgs', tol=0.0001, verbose=0,\n",
       "                   warm_start=False)"
      ]
     },
     "execution_count": 31,
     "metadata": {},
     "output_type": "execute_result"
    }
   ],
   "source": [
    "# Fitted Logistic Regression to the Training set\n",
    "from sklearn.linear_model import LogisticRegression\n",
    "classifier = LogisticRegression(random_state = 0)\n",
    "classifier.fit(X_train, Y_train)"
   ]
  },
  {
   "cell_type": "markdown",
   "metadata": {},
   "source": [
    "# STEP#5: MODEL TESTING"
   ]
  },
  {
   "cell_type": "code",
   "execution_count": 32,
   "metadata": {},
   "outputs": [
    {
     "data": {
      "text/plain": [
       "array([[5.15711589e-03, 9.94842884e-01],\n",
       "       [4.78282642e-03, 9.95217174e-01],\n",
       "       [1.60690290e-01, 8.39309710e-01],\n",
       "       [7.40313221e-04, 9.99259687e-01],\n",
       "       [1.22485716e-01, 8.77514284e-01],\n",
       "       [1.79818407e-03, 9.98201816e-01],\n",
       "       [3.75029217e-02, 9.62497078e-01],\n",
       "       [1.04955033e-02, 9.89504497e-01],\n",
       "       [1.62560286e-03, 9.98374397e-01],\n",
       "       [1.02353742e-03, 9.98976463e-01],\n",
       "       [3.61109035e-03, 9.96388910e-01],\n",
       "       [9.40907272e-05, 9.99905909e-01],\n",
       "       [4.03774524e-01, 5.96225476e-01],\n",
       "       [1.78432098e-01, 8.21567902e-01],\n",
       "       [1.08560095e-03, 9.98914399e-01],\n",
       "       [1.86116922e-02, 9.81388308e-01],\n",
       "       [7.54687570e-03, 9.92453124e-01],\n",
       "       [4.33782205e-02, 9.56621780e-01],\n",
       "       [3.91088829e-03, 9.96089112e-01],\n",
       "       [5.20008672e-03, 9.94799913e-01],\n",
       "       [1.01089592e-02, 9.89891041e-01],\n",
       "       [1.74200619e-02, 9.82579938e-01],\n",
       "       [4.21677473e-03, 9.95783225e-01],\n",
       "       [2.94355905e-01, 7.05644095e-01],\n",
       "       [3.14398660e-03, 9.96856013e-01],\n",
       "       [2.39316888e-02, 9.76068311e-01],\n",
       "       [1.25823002e-04, 9.99874177e-01],\n",
       "       [8.65516931e-02, 9.13448307e-01],\n",
       "       [4.30687869e-03, 9.95693121e-01],\n",
       "       [1.21920446e-02, 9.87807955e-01],\n",
       "       [1.44348745e-01, 8.55651255e-01],\n",
       "       [6.88386230e-03, 9.93116138e-01],\n",
       "       [1.35260815e-02, 9.86473919e-01],\n",
       "       [1.30321913e-02, 9.86967809e-01],\n",
       "       [7.18833166e-04, 9.99281167e-01],\n",
       "       [8.79630947e-04, 9.99120369e-01],\n",
       "       [3.80723489e-04, 9.99619277e-01],\n",
       "       [1.15035773e-02, 9.88496423e-01],\n",
       "       [3.63055847e-02, 9.63694415e-01],\n",
       "       [1.03916038e-01, 8.96083962e-01],\n",
       "       [2.01740147e-01, 7.98259853e-01],\n",
       "       [3.16144987e-02, 9.68385501e-01],\n",
       "       [4.48645437e-04, 9.99551355e-01],\n",
       "       [4.44377763e-02, 9.55562224e-01],\n",
       "       [6.71118300e-01, 3.28881700e-01],\n",
       "       [2.71857342e-04, 9.99728143e-01],\n",
       "       [2.68434286e-04, 9.99731566e-01],\n",
       "       [1.26572227e-02, 9.87342777e-01],\n",
       "       [3.08540780e-02, 9.69145922e-01],\n",
       "       [4.29279252e-01, 5.70720748e-01],\n",
       "       [2.32650888e-04, 9.99767349e-01],\n",
       "       [6.46527293e-03, 9.93534727e-01],\n",
       "       [1.43904313e-03, 9.98560957e-01],\n",
       "       [4.82513444e-01, 5.17486556e-01],\n",
       "       [2.05706426e-03, 9.97942936e-01],\n",
       "       [7.15677577e-02, 9.28432242e-01],\n",
       "       [7.88538441e-04, 9.99211462e-01],\n",
       "       [6.88386230e-03, 9.93116138e-01],\n",
       "       [1.97036657e-01, 8.02963343e-01],\n",
       "       [6.90959997e-02, 9.30904000e-01],\n",
       "       [1.31190999e-03, 9.98688090e-01],\n",
       "       [8.44834953e-03, 9.91551650e-01],\n",
       "       [1.49618141e-01, 8.50381859e-01],\n",
       "       [2.63013250e-02, 9.73698675e-01],\n",
       "       [3.76592930e-03, 9.96234071e-01],\n",
       "       [1.69932491e-02, 9.83006751e-01],\n",
       "       [2.55018794e-01, 7.44981206e-01],\n",
       "       [1.35108831e-03, 9.98648912e-01],\n",
       "       [7.56024204e-04, 9.99243976e-01],\n",
       "       [3.14820905e-02, 9.68517909e-01],\n",
       "       [4.82321594e-03, 9.95176784e-01],\n",
       "       [1.40963134e-04, 9.99859037e-01],\n",
       "       [3.71827162e-03, 9.96281728e-01],\n",
       "       [6.85405719e-02, 9.31459428e-01],\n",
       "       [3.79118967e-04, 9.99620881e-01],\n",
       "       [2.47314147e-02, 9.75268585e-01],\n",
       "       [2.41313219e-03, 9.97586868e-01],\n",
       "       [6.74794702e-04, 9.99325205e-01],\n",
       "       [2.80831199e-02, 9.71916880e-01],\n",
       "       [1.97170813e-02, 9.80282919e-01],\n",
       "       [1.99723838e-03, 9.98002762e-01],\n",
       "       [4.14730323e-03, 9.95852697e-01],\n",
       "       [8.98379373e-05, 9.99910162e-01],\n",
       "       [3.98673401e-01, 6.01326599e-01],\n",
       "       [1.44568106e-02, 9.85543189e-01],\n",
       "       [8.08512598e-05, 9.99919149e-01],\n",
       "       [2.38357292e-02, 9.76164271e-01],\n",
       "       [1.36829840e-03, 9.98631702e-01],\n",
       "       [7.96871750e-03, 9.92031282e-01],\n",
       "       [7.47028739e-02, 9.25297126e-01],\n",
       "       [4.18318205e-02, 9.58168180e-01],\n",
       "       [8.00132213e-03, 9.91998678e-01],\n",
       "       [1.34712697e-02, 9.86528730e-01],\n",
       "       [8.77195828e-03, 9.91228042e-01],\n",
       "       [1.19901843e-02, 9.88009816e-01],\n",
       "       [1.42094449e-03, 9.98579056e-01],\n",
       "       [3.32739345e-04, 9.99667261e-01],\n",
       "       [4.94246220e-04, 9.99505754e-01],\n",
       "       [1.53847942e-02, 9.84615206e-01],\n",
       "       [1.20600051e-03, 9.98793999e-01],\n",
       "       [7.64664051e-02, 9.23533595e-01],\n",
       "       [3.05264630e-03, 9.96947354e-01],\n",
       "       [4.97252232e-02, 9.50274777e-01],\n",
       "       [7.70675422e-03, 9.92293246e-01],\n",
       "       [8.59017314e-03, 9.91409827e-01],\n",
       "       [1.42695197e-03, 9.98573048e-01],\n",
       "       [5.80804987e-01, 4.19195013e-01],\n",
       "       [4.18274592e-02, 9.58172541e-01],\n",
       "       [7.05934753e-03, 9.92940652e-01],\n",
       "       [2.96114067e-01, 7.03885933e-01],\n",
       "       [1.39234547e-01, 8.60765453e-01],\n",
       "       [4.02736839e-03, 9.95972632e-01],\n",
       "       [1.42790307e-01, 8.57209693e-01],\n",
       "       [6.01121879e-01, 3.98878121e-01],\n",
       "       [8.23232851e-02, 9.17676715e-01],\n",
       "       [1.45107891e-03, 9.98548921e-01],\n",
       "       [2.94974137e-02, 9.70502586e-01],\n",
       "       [8.32778931e-05, 9.99916722e-01],\n",
       "       [6.70209162e-01, 3.29790838e-01],\n",
       "       [1.34152367e-02, 9.86584763e-01],\n",
       "       [1.25254604e-03, 9.98747454e-01],\n",
       "       [9.85493626e-04, 9.99014506e-01],\n",
       "       [2.72899596e-02, 9.72710040e-01],\n",
       "       [1.01599010e-01, 8.98400990e-01],\n",
       "       [2.77392314e-02, 9.72260769e-01],\n",
       "       [1.74606372e-03, 9.98253936e-01],\n",
       "       [2.75490242e-01, 7.24509758e-01],\n",
       "       [1.22123201e-03, 9.98778768e-01],\n",
       "       [4.33691905e-02, 9.56630809e-01],\n",
       "       [1.09480286e-03, 9.98905197e-01],\n",
       "       [1.02783707e-02, 9.89721629e-01],\n",
       "       [5.89596204e-05, 9.99941040e-01],\n",
       "       [6.82782551e-02, 9.31721745e-01],\n",
       "       [4.26522409e-04, 9.99573478e-01],\n",
       "       [4.83512268e-02, 9.51648773e-01],\n",
       "       [3.24448583e-04, 9.99675551e-01],\n",
       "       [2.57392662e-01, 7.42607338e-01],\n",
       "       [6.57473775e-03, 9.93425262e-01],\n",
       "       [6.66831567e-02, 9.33316843e-01],\n",
       "       [1.55779764e-02, 9.84422024e-01],\n",
       "       [9.30756132e-02, 9.06924387e-01],\n",
       "       [6.21223128e-02, 9.37877687e-01],\n",
       "       [1.29437348e-01, 8.70562652e-01],\n",
       "       [5.31051517e-03, 9.94689485e-01],\n",
       "       [7.33968417e-05, 9.99926603e-01],\n",
       "       [7.56656017e-01, 2.43343983e-01],\n",
       "       [3.97684641e-03, 9.96023154e-01],\n",
       "       [6.25615358e-04, 9.99374385e-01],\n",
       "       [6.74648167e-05, 9.99932535e-01],\n",
       "       [1.36722046e-01, 8.63277954e-01],\n",
       "       [4.31404055e-01, 5.68595945e-01],\n",
       "       [7.62246314e-05, 9.99923775e-01],\n",
       "       [5.87110612e-05, 9.99941289e-01],\n",
       "       [3.83608329e-01, 6.16391671e-01],\n",
       "       [8.20505859e-03, 9.91794941e-01],\n",
       "       [1.32806566e-01, 8.67193434e-01],\n",
       "       [1.38557684e-03, 9.98614423e-01],\n",
       "       [6.32952409e-01, 3.67047591e-01],\n",
       "       [6.28194138e-04, 9.99371806e-01],\n",
       "       [1.42094449e-03, 9.98579056e-01],\n",
       "       [2.79984681e-04, 9.99720015e-01],\n",
       "       [7.82048549e-01, 2.17951451e-01],\n",
       "       [1.50072469e-03, 9.98499275e-01],\n",
       "       [3.55923993e-04, 9.99644076e-01],\n",
       "       [9.48741848e-02, 9.05125815e-01],\n",
       "       [3.75699499e-01, 6.24300501e-01],\n",
       "       [3.44357389e-02, 9.65564261e-01],\n",
       "       [4.87364739e-02, 9.51263526e-01],\n",
       "       [5.49376849e-02, 9.45062315e-01],\n",
       "       [1.83630401e-03, 9.98163696e-01],\n",
       "       [7.90219677e-03, 9.92097803e-01],\n",
       "       [4.51562453e-02, 9.54843755e-01],\n",
       "       [5.94709970e-03, 9.94052900e-01],\n",
       "       [2.16786697e-02, 9.78321330e-01],\n",
       "       [3.51318784e-01, 6.48681216e-01],\n",
       "       [5.23545754e-01, 4.76454246e-01],\n",
       "       [1.05102217e-01, 8.94897783e-01],\n",
       "       [1.81321816e-03, 9.98186782e-01],\n",
       "       [7.15804735e-04, 9.99284195e-01],\n",
       "       [4.36157504e-03, 9.95638425e-01],\n",
       "       [2.87876370e-03, 9.97121236e-01],\n",
       "       [1.89994597e-02, 9.81000540e-01],\n",
       "       [3.64498718e-02, 9.63550128e-01],\n",
       "       [3.57189197e-02, 9.64281080e-01],\n",
       "       [1.41496227e-03, 9.98585038e-01],\n",
       "       [6.38505461e-03, 9.93614945e-01],\n",
       "       [2.98232292e-04, 9.99701768e-01],\n",
       "       [2.59759188e-02, 9.74024081e-01],\n",
       "       [9.92987183e-02, 9.00701282e-01],\n",
       "       [2.96186023e-02, 9.70381398e-01],\n",
       "       [5.70247672e-03, 9.94297523e-01],\n",
       "       [2.80831199e-02, 9.71916880e-01],\n",
       "       [3.91631070e-01, 6.08368930e-01],\n",
       "       [2.82265311e-01, 7.17734689e-01],\n",
       "       [3.33455879e-03, 9.96665441e-01],\n",
       "       [9.74444357e-02, 9.02555564e-01],\n",
       "       [3.67240907e-03, 9.96327591e-01],\n",
       "       [1.53919424e-03, 9.98460806e-01],\n",
       "       [5.67900914e-04, 9.99432099e-01],\n",
       "       [2.26865470e-02, 9.77313453e-01],\n",
       "       [2.47314147e-02, 9.75268585e-01],\n",
       "       [6.38548764e-02, 9.36145124e-01],\n",
       "       [1.12275668e-03, 9.98877243e-01],\n",
       "       [9.33526339e-01, 6.64736614e-02],\n",
       "       [4.37302150e-02, 9.56269785e-01],\n",
       "       [7.44113623e-02, 9.25588638e-01],\n",
       "       [3.79631263e-02, 9.62036874e-01],\n",
       "       [1.33757529e-01, 8.66242471e-01],\n",
       "       [1.92416394e-01, 8.07583606e-01],\n",
       "       [3.09444942e-01, 6.90555058e-01],\n",
       "       [7.58794458e-02, 9.24120554e-01],\n",
       "       [6.61659138e-02, 9.33834086e-01],\n",
       "       [3.76592930e-03, 9.96234071e-01],\n",
       "       [8.89009987e-02, 9.11099001e-01],\n",
       "       [1.33052881e-02, 9.86694712e-01],\n",
       "       [5.58209765e-05, 9.99944179e-01],\n",
       "       [2.11180652e-04, 9.99788819e-01],\n",
       "       [9.36940779e-05, 9.99906306e-01],\n",
       "       [8.01966924e-04, 9.99198033e-01],\n",
       "       [9.17457521e-05, 9.99908254e-01],\n",
       "       [1.98831872e-02, 9.80116813e-01],\n",
       "       [5.82351141e-03, 9.94176489e-01],\n",
       "       [5.00547373e-04, 9.99499453e-01],\n",
       "       [1.01589078e-01, 8.98410922e-01],\n",
       "       [8.52249006e-02, 9.14775099e-01],\n",
       "       [2.07190348e-02, 9.79280965e-01],\n",
       "       [3.90624921e-01, 6.09375079e-01],\n",
       "       [1.72941527e-01, 8.27058473e-01],\n",
       "       [2.47075525e-01, 7.52924475e-01],\n",
       "       [5.28881686e-03, 9.94711183e-01],\n",
       "       [1.16291226e-01, 8.83708774e-01],\n",
       "       [8.43455511e-04, 9.99156544e-01],\n",
       "       [4.39794646e-03, 9.95602054e-01],\n",
       "       [3.71867474e-03, 9.96281325e-01],\n",
       "       [1.09132222e-01, 8.90867778e-01],\n",
       "       [1.60997039e-02, 9.83900296e-01],\n",
       "       [1.89994597e-02, 9.81000540e-01],\n",
       "       [4.87836314e-05, 9.99951216e-01],\n",
       "       [3.05685354e-05, 9.99969431e-01],\n",
       "       [1.25676197e-01, 8.74323803e-01],\n",
       "       [2.23124834e-02, 9.77687517e-01],\n",
       "       [2.51005814e-01, 7.48994186e-01],\n",
       "       [8.27321471e-03, 9.91726785e-01],\n",
       "       [4.23383966e-02, 9.57661603e-01],\n",
       "       [3.04773221e-02, 9.69522678e-01],\n",
       "       [5.28436555e-05, 9.99947156e-01],\n",
       "       [1.48904550e-04, 9.99851095e-01],\n",
       "       [1.96590456e-04, 9.99803410e-01],\n",
       "       [3.79697179e-01, 6.20302821e-01],\n",
       "       [2.16832858e-02, 9.78316714e-01],\n",
       "       [4.52131568e-01, 5.47868432e-01],\n",
       "       [1.14174616e-03, 9.98858254e-01],\n",
       "       [5.42889050e-02, 9.45711095e-01],\n",
       "       [2.63585551e-03, 9.97364144e-01],\n",
       "       [2.76334315e-01, 7.23665685e-01],\n",
       "       [5.18301067e-01, 4.81698933e-01],\n",
       "       [1.29239527e-02, 9.87076047e-01],\n",
       "       [6.22689955e-03, 9.93773100e-01],\n",
       "       [5.32199745e-02, 9.46780025e-01],\n",
       "       [1.97191846e-02, 9.80280815e-01],\n",
       "       [6.43819083e-03, 9.93561809e-01],\n",
       "       [2.95234225e-01, 7.04765775e-01],\n",
       "       [1.00447931e-01, 8.99552069e-01],\n",
       "       [1.22020676e-01, 8.77979324e-01],\n",
       "       [5.07800741e-01, 4.92199259e-01],\n",
       "       [3.72068974e-02, 9.62793103e-01],\n",
       "       [7.08070937e-01, 2.91929063e-01],\n",
       "       [1.17102445e-03, 9.98828976e-01],\n",
       "       [3.39926926e-01, 6.60073074e-01],\n",
       "       [8.33456418e-01, 1.66543582e-01],\n",
       "       [6.82633534e-03, 9.93173665e-01],\n",
       "       [1.26045325e-02, 9.87395468e-01],\n",
       "       [4.37467943e-04, 9.99562532e-01],\n",
       "       [1.51939707e-02, 9.84806029e-01],\n",
       "       [3.16159158e-05, 9.99968384e-01],\n",
       "       [1.60380665e-02, 9.83961934e-01],\n",
       "       [1.99940327e-04, 9.99800060e-01],\n",
       "       [6.74166752e-03, 9.93258332e-01],\n",
       "       [1.06304830e-03, 9.98936952e-01],\n",
       "       [1.08118982e-04, 9.99891881e-01],\n",
       "       [3.26472999e-03, 9.96735270e-01],\n",
       "       [3.54462505e-04, 9.99645537e-01],\n",
       "       [1.13227319e-03, 9.98867727e-01],\n",
       "       [4.98438117e-04, 9.99501562e-01],\n",
       "       [5.51574533e-02, 9.44842547e-01],\n",
       "       [2.22789132e-03, 9.97772109e-01],\n",
       "       [2.96459496e-03, 9.97035405e-01],\n",
       "       [4.74277352e-03, 9.95257226e-01],\n",
       "       [1.20600051e-03, 9.98793999e-01],\n",
       "       [4.13267326e-02, 9.58673267e-01],\n",
       "       [1.52626288e-03, 9.98473737e-01],\n",
       "       [3.92653011e-03, 9.96073470e-01],\n",
       "       [1.08500555e-02, 9.89149945e-01],\n",
       "       [4.94192468e-04, 9.99505808e-01],\n",
       "       [1.18917743e-02, 9.88108226e-01],\n",
       "       [8.98379373e-05, 9.99910162e-01],\n",
       "       [2.33337341e-03, 9.97666627e-01],\n",
       "       [2.30693763e-04, 9.99769306e-01],\n",
       "       [5.60573009e-05, 9.99943943e-01],\n",
       "       [2.48511510e-03, 9.97514885e-01],\n",
       "       [1.99049671e-01, 8.00950329e-01],\n",
       "       [3.03207076e-01, 6.96792924e-01],\n",
       "       [1.46409625e-04, 9.99853590e-01],\n",
       "       [1.03916038e-01, 8.96083962e-01],\n",
       "       [5.97180305e-02, 9.40281970e-01],\n",
       "       [1.30119537e-04, 9.99869880e-01],\n",
       "       [3.17474455e-02, 9.68252555e-01],\n",
       "       [1.93732845e-01, 8.06267155e-01],\n",
       "       [4.16478916e-03, 9.95835211e-01],\n",
       "       [8.55518969e-03, 9.91444810e-01],\n",
       "       [9.02193779e-04, 9.99097806e-01],\n",
       "       [7.57940434e-03, 9.92420596e-01],\n",
       "       [1.46385136e-02, 9.85361486e-01],\n",
       "       [2.67347683e-02, 9.73265232e-01],\n",
       "       [3.07847017e-03, 9.96921530e-01],\n",
       "       [8.92438014e-02, 9.10756199e-01],\n",
       "       [2.58090043e-03, 9.97419100e-01],\n",
       "       [7.40804110e-01, 2.59195890e-01],\n",
       "       [6.83252987e-05, 9.99931675e-01],\n",
       "       [1.36238946e-03, 9.98637611e-01]])"
      ]
     },
     "execution_count": 32,
     "metadata": {},
     "output_type": "execute_result"
    }
   ],
   "source": [
    "Y_proba = classifier.predict_proba(X_train)\n",
    "Y_proba"
   ]
  },
  {
   "cell_type": "code",
   "execution_count": 33,
   "metadata": {},
   "outputs": [
    {
     "data": {
      "text/plain": [
       "array([1, 1, 1, 1, 1, 1, 1, 1, 1, 1, 1, 1, 1, 1, 1, 1, 1, 1, 1, 1, 1, 1,\n",
       "       1, 1, 1, 1, 1, 1, 1, 1, 1, 1, 1, 1, 1, 1, 1, 1, 1, 1, 1, 1, 1, 1,\n",
       "       0, 1, 1, 1, 1, 1, 1, 1, 1, 1, 1, 1, 1, 1, 1, 1, 1, 1, 1, 1, 1, 1,\n",
       "       1, 1, 1, 1, 1, 1, 1, 1, 1, 1, 1, 1, 1, 1, 1, 1, 1, 1, 1, 1, 1, 1,\n",
       "       1, 1, 1, 1, 1, 1, 1, 1, 1, 1, 1, 1, 1, 1, 1, 1, 1, 1, 0, 1, 1, 1,\n",
       "       1, 1, 1, 0, 1, 1, 1, 1, 0, 1, 1, 1, 1, 1, 1, 1, 1, 1, 1, 1, 1, 1,\n",
       "       1, 1, 1, 1, 1, 1, 1, 1, 1, 1, 1, 1, 1, 0, 1, 1, 1, 1, 1, 1, 1, 1,\n",
       "       1, 1, 1, 0, 1, 1, 1, 0, 1, 1, 1, 1, 1, 1, 1, 1, 1, 1, 1, 1, 1, 0,\n",
       "       1, 1, 1, 1, 1, 1, 1, 1, 1, 1, 1, 1, 1, 1, 1, 1, 1, 1, 1, 1, 1, 1,\n",
       "       1, 1, 1, 1, 1, 0, 1, 1, 1, 1, 1, 1, 1, 1, 1, 1, 1, 1, 1, 1, 1, 1,\n",
       "       1, 1, 1, 1, 1, 1, 1, 1, 1, 1, 1, 1, 1, 1, 1, 1, 1, 1, 1, 1, 1, 1,\n",
       "       1, 1, 1, 1, 1, 1, 1, 1, 1, 1, 1, 1, 1, 0, 1, 1, 1, 1, 1, 1, 1, 1,\n",
       "       0, 1, 0, 1, 1, 0, 1, 1, 1, 1, 1, 1, 1, 1, 1, 1, 1, 1, 1, 1, 1, 1,\n",
       "       1, 1, 1, 1, 1, 1, 1, 1, 1, 1, 1, 1, 1, 1, 1, 1, 1, 1, 1, 1, 1, 1,\n",
       "       1, 1, 1, 1, 1, 1, 1, 1, 1, 0, 1, 1], dtype=int64)"
      ]
     },
     "execution_count": 33,
     "metadata": {},
     "output_type": "execute_result"
    }
   ],
   "source": [
    "Y_predict_train = classifier.predict(X_train)\n",
    "Y_predict_train"
   ]
  },
  {
   "cell_type": "code",
   "execution_count": 34,
   "metadata": {},
   "outputs": [
    {
     "data": {
      "text/plain": [
       "array([1, 1, 1, 1, 1, 1, 1, 1, 1, 1, 1, 1, 1, 1, 1, 1, 1, 1, 1, 1, 1, 1,\n",
       "       1, 1, 1, 1, 1, 1, 1, 1, 0, 1, 1, 1, 1, 1, 1, 1, 1, 1, 0, 1, 1, 1,\n",
       "       0, 1, 1, 1, 1, 1, 1, 1, 1, 1, 1, 1, 1, 1, 1, 1, 1, 1, 1, 1, 1, 1,\n",
       "       1, 1, 1, 1, 1, 1, 1, 1, 1, 1, 1, 1, 1, 1, 1, 1, 1, 1, 1, 1, 1, 1,\n",
       "       1, 0, 1, 1, 1, 1, 1, 1, 1, 1, 1, 1, 1, 1, 1, 1, 1, 1, 1, 1, 1, 1,\n",
       "       1, 1, 1, 0, 1, 1, 1, 1, 0, 1, 1, 1, 1, 1, 1, 1, 1, 1, 1, 1, 1, 1,\n",
       "       1, 1, 1, 1, 0, 1, 1, 1, 1, 1, 0, 1, 1, 0, 1, 1, 1, 1, 1, 1, 1, 0,\n",
       "       1, 1, 1, 1, 1, 1, 1, 0, 1, 1, 1, 0, 1, 1, 1, 1, 1, 1, 1, 1, 1, 1,\n",
       "       1, 1, 1, 1, 1, 1, 1, 1, 1, 1, 1, 1, 1, 1, 1, 1, 0, 1, 1, 1, 1, 1,\n",
       "       1, 1, 1, 1, 1, 0, 0, 1, 1, 1, 1, 1, 1, 1, 1, 1, 1, 1, 1, 1, 1, 1,\n",
       "       1, 1, 1, 1, 1, 1, 0, 1, 0, 1, 1, 1, 1, 1, 1, 1, 1, 1, 1, 1, 1, 1,\n",
       "       1, 1, 1, 1, 1, 1, 0, 1, 0, 1, 1, 1, 1, 0, 1, 1, 1, 1, 1, 1, 1, 1,\n",
       "       1, 1, 0, 1, 1, 0, 1, 1, 1, 1, 1, 1, 1, 1, 1, 1, 1, 1, 1, 1, 1, 1,\n",
       "       1, 1, 1, 1, 1, 1, 1, 1, 1, 1, 1, 1, 1, 1, 0, 0, 1, 1, 1, 1, 1, 1,\n",
       "       1, 1, 1, 0, 1, 1, 1, 1, 1, 0, 1, 1], dtype=int64)"
      ]
     },
     "execution_count": 34,
     "metadata": {},
     "output_type": "execute_result"
    }
   ],
   "source": [
    "Y_train"
   ]
  },
  {
   "cell_type": "code",
   "execution_count": 35,
   "metadata": {},
   "outputs": [
    {
     "data": {
      "text/plain": [
       "<matplotlib.axes._subplots.AxesSubplot at 0x1a1f826e088>"
      ]
     },
     "execution_count": 35,
     "metadata": {},
     "output_type": "execute_result"
    },
    {
     "data": {
      "image/png": "[encoded data removed]",
      "text/plain": [
       "<Figure size 432x288 with 2 Axes>"
      ]
     },
     "metadata": {
      "needs_background": "light"
     },
     "output_type": "display_data"
    }
   ],
   "source": [
    "from sklearn.metrics import classification_report, confusion_matrix\n",
    "cm = confusion_matrix(Y_train, Y_predict_train)\n",
    "sns.heatmap(cm, annot=True, fmt=\"d\")"
   ]
  },
  {
   "cell_type": "code",
   "execution_count": 36,
   "metadata": {},
   "outputs": [
    {
     "data": {
      "text/plain": [
       "array([1, 1, 1, 1, 1, 1, 1, 1, 1, 1, 1, 1, 1, 0, 1, 1, 1, 1, 1, 1, 1, 1,\n",
       "       1, 0, 1, 1, 0, 1, 1, 1, 1, 1, 1, 1, 1, 1, 1, 1, 1, 1, 1, 1, 1, 1,\n",
       "       1, 1, 1, 1, 1, 1, 1, 1, 1, 1, 1, 1, 1, 1, 1, 1, 1, 0, 1, 1, 1, 1,\n",
       "       1, 1, 1, 1, 1, 1, 1, 1, 1, 1, 1, 1, 1, 1], dtype=int64)"
      ]
     },
     "execution_count": 36,
     "metadata": {},
     "output_type": "execute_result"
    }
   ],
   "source": [
    "Y_predict_test = classifier.predict(X_test)\n",
    "Y_predict_test"
   ]
  },
  {
   "cell_type": "code",
   "execution_count": 37,
   "metadata": {},
   "outputs": [
    {
     "data": {
      "text/plain": [
       "<matplotlib.axes._subplots.AxesSubplot at 0x1a1f842c5c8>"
      ]
     },
     "execution_count": 37,
     "metadata": {},
     "output_type": "execute_result"
    },
    {
     "data": {
      "image/png": "[encoded data removed]",
      "text/plain": [
       "<Figure size 432x288 with 2 Axes>"
      ]
     },
     "metadata": {
      "needs_background": "light"
     },
     "output_type": "display_data"
    }
   ],
   "source": [
    "# Confusion Matrix\n",
    "cm = confusion_matrix(Y_test, Y_predict_test)\n",
    "sns.heatmap(cm, annot=True, fmt=\"d\")"
   ]
  },
  {
   "cell_type": "code",
   "execution_count": 38,
   "metadata": {},
   "outputs": [
    {
     "name": "stdout",
     "output_type": "stream",
     "text": [
      "              precision    recall  f1-score   support\n",
      "\n",
      "           0       0.75      0.43      0.55         7\n",
      "           1       0.95      0.99      0.97        73\n",
      "\n",
      "    accuracy                           0.94        80\n",
      "   macro avg       0.85      0.71      0.76        80\n",
      "weighted avg       0.93      0.94      0.93        80\n",
      "\n"
     ]
    }
   ],
   "source": [
    "#F1 Score with Precision and Recall\n",
    "from sklearn.metrics import classification_report\n",
    "print(classification_report(Y_test, Y_predict_test))"
   ]
  },
  {
   "cell_type": "code",
   "execution_count": 39,
   "metadata": {},
   "outputs": [],
   "source": [
    "from sklearn import metrics"
   ]
  },
  {
   "cell_type": "code",
   "execution_count": 40,
   "metadata": {},
   "outputs": [
    {
     "data": {
      "text/plain": [
       "0.9375"
      ]
     },
     "execution_count": 40,
     "metadata": {},
     "output_type": "execute_result"
    }
   ],
   "source": [
    "metrics.accuracy_score(Y_test,Y_predict_test)"
   ]
  },
  {
   "cell_type": "markdown",
   "metadata": {},
   "source": [
    "# STEP #6: VISUALIZING TRAINING AND TESTING DATASETS"
   ]
  },
  {
   "cell_type": "code",
   "execution_count": 41,
   "metadata": {},
   "outputs": [],
   "source": [
    "# Visualising the Training set results\n",
    "from matplotlib.colors import ListedColormap\n",
    "X_set, Y_set = X_train, Y_train\n",
    "\n",
    "# Created a meshgrid ranging from the minimum to maximum value for both features\n",
    "\n",
    "X1, X2 = np.meshgrid(np.arange(start = X_set[:, 0].min() - 1, stop = X_set[:, 0].max() + 1, step = 0.01),\n",
    "                     np.arange(start = X_set[:, 1].min() - 1, stop = X_set[:, 1].max() + 1, step = 0.01))"
   ]
  },
  {
   "cell_type": "code",
   "execution_count": 42,
   "metadata": {},
   "outputs": [
    {
     "data": {
      "text/plain": [
       "(320,)"
      ]
     },
     "execution_count": 42,
     "metadata": {},
     "output_type": "execute_result"
    }
   ],
   "source": [
    "Y_train.shape"
   ]
  },
  {
   "cell_type": "code",
   "execution_count": 43,
   "metadata": {},
   "outputs": [
    {
     "data": {
      "text/plain": [
       "(320, 2)"
      ]
     },
     "execution_count": 43,
     "metadata": {},
     "output_type": "execute_result"
    }
   ],
   "source": [
    "X_train.shape"
   ]
  },
  {
   "cell_type": "code",
   "execution_count": 44,
   "metadata": {},
   "outputs": [
    {
     "data": {
      "text/plain": [
       "(724, 637)"
      ]
     },
     "execution_count": 44,
     "metadata": {},
     "output_type": "execute_result"
    }
   ],
   "source": [
    "X1.shape"
   ]
  },
  {
   "cell_type": "code",
   "execution_count": 45,
   "metadata": {},
   "outputs": [
    {
     "data": {
      "text/plain": [
       "(-4.02050350705368, 3.2094964929461662)"
      ]
     },
     "execution_count": 45,
     "metadata": {},
     "output_type": "execute_result"
    },
    {
     "data": {
      "image/png": "[encoded data removed]",
      "text/plain": [
       "<Figure size 432x288 with 1 Axes>"
      ]
     },
     "metadata": {
      "needs_background": "light"
     },
     "output_type": "display_data"
    }
   ],
   "source": [
    "# plot the boundary using the trained classifier\n",
    "# Run the classifier to predict the outcome on all pixels with resolution of 0.01\n",
    "# Colouring the pixels with 0 or 1\n",
    "# If classified as 0 it will be magenta, and if it is classified as 1 it will be shown in blue \n",
    "plt.contourf(X1, X2, classifier.predict(np.array([X1.ravel(), X2.ravel()]).T).reshape(X1.shape),\n",
    "             alpha = 0.75, cmap = ListedColormap(('magenta', 'blue')))\n",
    "plt.xlim(X1.min(), X1.max())\n",
    "plt.ylim(X2.min(), X2.max())"
   ]
  },
  {
   "cell_type": "code",
   "execution_count": 46,
   "metadata": {},
   "outputs": [
    {
     "name": "stderr",
     "output_type": "stream",
     "text": [
      "'c' argument looks like a single numeric RGB or RGBA sequence, which should be avoided as value-mapping will have precedence in case its length matches with 'x' & 'y'.  Please use a 2-D array with a single row if you really want to specify the same RGB or RGBA value for all points.\n",
      "'c' argument looks like a single numeric RGB or RGBA sequence, which should be avoided as value-mapping will have precedence in case its length matches with 'x' & 'y'.  Please use a 2-D array with a single row if you really want to specify the same RGB or RGBA value for all points.\n"
     ]
    },
    {
     "data": {
      "image/png": "[encoded data removed]",
      "text/plain": [
       "<Figure size 432x288 with 1 Axes>"
      ]
     },
     "metadata": {
      "needs_background": "light"
     },
     "output_type": "display_data"
    }
   ],
   "source": [
    "# plot all the actual training points\n",
    "for i, j in enumerate(np.unique(Y_set)):\n",
    "    plt.scatter(X_set[Y_set == j, 0], X_set[Y_set == j, 1],\n",
    "                c = ListedColormap(('magenta', 'blue'))(i), label = j)\n",
    "    \n",
    "plt.title('Graduate Admission Prediction (Training set)')\n",
    "plt.xlabel('GRE Score')\n",
    "plt.ylabel('CGPA')\n",
    "plt.legend()\n",
    "plt.show()"
   ]
  },
  {
   "cell_type": "code",
   "execution_count": 47,
   "metadata": {},
   "outputs": [
    {
     "name": "stderr",
     "output_type": "stream",
     "text": [
      "'c' argument looks like a single numeric RGB or RGBA sequence, which should be avoided as value-mapping will have precedence in case its length matches with 'x' & 'y'.  Please use a 2-D array with a single row if you really want to specify the same RGB or RGBA value for all points.\n",
      "'c' argument looks like a single numeric RGB or RGBA sequence, which should be avoided as value-mapping will have precedence in case its length matches with 'x' & 'y'.  Please use a 2-D array with a single row if you really want to specify the same RGB or RGBA value for all points.\n"
     ]
    },
    {
     "data": {
      "image/png": "[encoded data removed]",
      "text/plain": [
       "<Figure size 432x288 with 1 Axes>"
      ]
     },
     "metadata": {
      "needs_background": "light"
     },
     "output_type": "display_data"
    }
   ],
   "source": [
    "# Visualising the Training set results\n",
    "from matplotlib.colors import ListedColormap\n",
    "X_set, Y_set = X_train, Y_train\n",
    "X1, X2 = np.meshgrid(np.arange(start = X_set[:, 0].min() - 1, stop = X_set[:, 0].max() + 1, step = 0.01),\n",
    "                     np.arange(start = X_set[:, 1].min() - 1, stop = X_set[:, 1].max() + 1, step = 0.01))\n",
    "plt.contourf(X1, X2, classifier.predict(np.array([X1.ravel(), X2.ravel()]).T).reshape(X1.shape),\n",
    "             alpha = 0.75, cmap = ListedColormap(('magenta', 'blue')))\n",
    "plt.xlim(X1.min(), X1.max())\n",
    "plt.ylim(X2.min(), X2.max())\n",
    "for i, j in enumerate(np.unique(Y_set)):\n",
    "    plt.scatter(X_set[Y_set == j, 0], X_set[Y_set == j, 1],\n",
    "                c = ListedColormap(('magenta', 'blue'))(i), label = j)\n",
    "plt.title('Graduate Admission prediction (Training set)')\n",
    "plt.xlabel('GRE Score')\n",
    "plt.ylabel('CGPA')\n",
    "plt.legend()\n",
    "plt.show()"
   ]
  },
  {
   "cell_type": "code",
   "execution_count": 48,
   "metadata": {},
   "outputs": [
    {
     "name": "stderr",
     "output_type": "stream",
     "text": [
      "'c' argument looks like a single numeric RGB or RGBA sequence, which should be avoided as value-mapping will have precedence in case its length matches with 'x' & 'y'.  Please use a 2-D array with a single row if you really want to specify the same RGB or RGBA value for all points.\n",
      "'c' argument looks like a single numeric RGB or RGBA sequence, which should be avoided as value-mapping will have precedence in case its length matches with 'x' & 'y'.  Please use a 2-D array with a single row if you really want to specify the same RGB or RGBA value for all points.\n"
     ]
    },
    {
     "data": {
      "image/png": "[encoded data removed]",
      "text/plain": [
       "<Figure size 432x288 with 1 Axes>"
      ]
     },
     "metadata": {
      "needs_background": "light"
     },
     "output_type": "display_data"
    }
   ],
   "source": [
    "# Visualising the Testing set results\n",
    "from matplotlib.colors import ListedColormap\n",
    "X_set, Y_set = X_test, Y_test\n",
    "X1, X2 = np.meshgrid(np.arange(start = X_set[:, 0].min() - 1, stop = X_set[:, 0].max() + 1, step = 0.01),\n",
    "                     np.arange(start = X_set[:, 1].min() - 1, stop = X_set[:, 1].max() + 1, step = 0.01))\n",
    "plt.contourf(X1, X2, classifier.predict(np.array([X1.ravel(), X2.ravel()]).T).reshape(X1.shape),\n",
    "             alpha = 0.75, cmap = ListedColormap(('magenta', 'blue')))\n",
    "plt.xlim(X1.min(), X1.max())\n",
    "plt.ylim(X2.min(), X2.max())\n",
    "for i, j in enumerate(np.unique(Y_set)):\n",
    "    plt.scatter(X_set[Y_set == j, 0], X_set[Y_set == j, 1],\n",
    "                c = ListedColormap(('magenta', 'blue'))(i), label = j)\n",
    "plt.title('Graduate admission prediction (Testing set)')\n",
    "plt.xlabel('GRE Score')\n",
    "plt.ylabel('CGPA')\n",
    "plt.legend()\n",
    "plt.show()"
   ]
  },
  {
   "cell_type": "markdown",
   "metadata": {},
   "source": [
    "## LINEAR REGRESSION"
   ]
  },
  {
   "cell_type": "code",
   "execution_count": 49,
   "metadata": {},
   "outputs": [],
   "source": [
    "l = training_set['GRE Score'].values.reshape(-1,1)\n",
    "m= training_set['CGPA'].values.reshape(-1,1)"
   ]
  },
  {
   "cell_type": "code",
   "execution_count": 50,
   "metadata": {},
   "outputs": [
    {
     "data": {
      "text/plain": [
       "LinearRegression(copy_X=True, fit_intercept=True, n_jobs=None, normalize=False)"
      ]
     },
     "execution_count": 50,
     "metadata": {},
     "output_type": "execute_result"
    }
   ],
   "source": [
    "from sklearn.linear_model import LinearRegression\n",
    "reg = LinearRegression()\n",
    "reg.fit(l, m)"
   ]
  },
  {
   "cell_type": "code",
   "execution_count": 51,
   "metadata": {},
   "outputs": [
    {
     "data": {
      "image/png": "[encoded data removed]",
      "text/plain": [
       "<Figure size 504x504 with 1 Axes>"
      ]
     },
     "metadata": {
      "needs_background": "light"
     },
     "output_type": "display_data"
    }
   ],
   "source": [
    "predictions = reg.predict(l)\n",
    "plt.figure(figsize=(7,7))\n",
    "plt.scatter(training_set['GRE Score'],training_set['CGPA'],c='blue')\n",
    "plt.plot(training_set['GRE Score'],predictions,c='green')\n",
    "plt.xlabel(\"GRE Score\")\n",
    "plt.ylabel(\"CGPA\")\n",
    "plt.show()"
   ]
  },
  {
   "cell_type": "markdown",
   "metadata": {},
   "source": [
    "##  DECISION TREE"
   ]
  },
  {
   "cell_type": "code",
   "execution_count": 52,
   "metadata": {},
   "outputs": [
    {
     "data": {
      "text/plain": [
       "DecisionTreeClassifier(ccp_alpha=0.0, class_weight=None, criterion='entropy',\n",
       "                       max_depth=None, max_features=None, max_leaf_nodes=None,\n",
       "                       min_impurity_decrease=0.0, min_impurity_split=None,\n",
       "                       min_samples_leaf=1, min_samples_split=2,\n",
       "                       min_weight_fraction_leaf=0.0, presort='deprecated',\n",
       "                       random_state=None, splitter='best')"
      ]
     },
     "execution_count": 52,
     "metadata": {},
     "output_type": "execute_result"
    }
   ],
   "source": [
    "from sklearn.tree import DecisionTreeClassifier\n",
    "classifier = DecisionTreeClassifier(criterion = 'entropy')\n",
    "classifier.fit(X_train, Y_train)"
   ]
  },
  {
   "cell_type": "code",
   "execution_count": 53,
   "metadata": {},
   "outputs": [
    {
     "data": {
      "text/plain": [
       "array([1, 0, 1, 1, 1, 1, 1, 1, 1, 1, 0, 1, 1, 0, 1, 1, 1, 1, 1, 1, 1, 1,\n",
       "       1, 0, 1, 1, 1, 1, 1, 1, 1, 1, 1, 0, 1, 1, 1, 1, 1, 1, 1, 1, 0, 1,\n",
       "       1, 1, 1, 1, 1, 1, 1, 1, 1, 1, 1, 1, 1, 1, 1, 1, 1, 1, 1, 0, 1, 1,\n",
       "       1, 1, 1, 1, 0, 1, 1, 1, 1, 0, 1, 1, 1, 1], dtype=int64)"
      ]
     },
     "execution_count": 53,
     "metadata": {},
     "output_type": "execute_result"
    }
   ],
   "source": [
    "y_pred = classifier.predict(X_test)\n",
    "y_pred"
   ]
  },
  {
   "cell_type": "code",
   "execution_count": 54,
   "metadata": {},
   "outputs": [
    {
     "data": {
      "text/plain": [
       "<matplotlib.axes._subplots.AxesSubplot at 0x1a1fa80b448>"
      ]
     },
     "execution_count": 54,
     "metadata": {},
     "output_type": "execute_result"
    },
    {
     "data": {
      "image/png": "[encoded data removed]",
      "text/plain": [
       "<Figure size 432x288 with 2 Axes>"
      ]
     },
     "metadata": {
      "needs_background": "light"
     },
     "output_type": "display_data"
    }
   ],
   "source": [
    "from sklearn.metrics import confusion_matrix\n",
    "cm = confusion_matrix(Y_test, y_pred)\n",
    "sns.heatmap(cm, annot=True, fmt=\"d\")"
   ]
  },
  {
   "cell_type": "code",
   "execution_count": 55,
   "metadata": {},
   "outputs": [
    {
     "name": "stdout",
     "output_type": "stream",
     "text": [
      "              precision    recall  f1-score   support\n",
      "\n",
      "           0       0.11      0.14      0.12         7\n",
      "           1       0.92      0.89      0.90        73\n",
      "\n",
      "    accuracy                           0.82        80\n",
      "   macro avg       0.51      0.52      0.51        80\n",
      "weighted avg       0.85      0.82      0.83        80\n",
      "\n"
     ]
    }
   ],
   "source": [
    "#F1 Score with Precision and Recall\n",
    "from sklearn.metrics import classification_report\n",
    "print(classification_report(Y_test, y_pred))"
   ]
  },
  {
   "cell_type": "code",
   "execution_count": 56,
   "metadata": {},
   "outputs": [
    {
     "name": "stderr",
     "output_type": "stream",
     "text": [
      "'c' argument looks like a single numeric RGB or RGBA sequence, which should be avoided as value-mapping will have precedence in case its length matches with 'x' & 'y'.  Please use a 2-D array with a single row if you really want to specify the same RGB or RGBA value for all points.\n",
      "'c' argument looks like a single numeric RGB or RGBA sequence, which should be avoided as value-mapping will have precedence in case its length matches with 'x' & 'y'.  Please use a 2-D array with a single row if you really want to specify the same RGB or RGBA value for all points.\n"
     ]
    },
    {
     "data": {
      "image/png": "[encoded data removed]",
      "text/plain": [
       "<Figure size 432x288 with 1 Axes>"
      ]
     },
     "metadata": {
      "needs_background": "light"
     },
     "output_type": "display_data"
    }
   ],
   "source": [
    "# Visualising the Training set results\n",
    "from matplotlib.colors import ListedColormap\n",
    "X_set, y_set = X_train, Y_train\n",
    "X1, X2 = np.meshgrid(np.arange(start = X_set[:, 0].min() - 1, stop = X_set[:, 0].max() + 1, step = 0.01),\n",
    "                     np.arange(start = X_set[:, 1].min() - 1, stop = X_set[:, 1].max() + 1, step = 0.01))\n",
    "plt.contourf(X1, X2, classifier.predict(np.array([X1.ravel(), X2.ravel()]).T).reshape(X1.shape),\n",
    "             alpha = 0.2, cmap = ListedColormap(('red', 'green')))\n",
    "plt.xlim(X1.min(), X1.max())\n",
    "plt.ylim(X2.min(), X2.max())\n",
    "for i, j in enumerate(np.unique(y_set)):\n",
    "    plt.scatter(X_set[y_set == j, 0], X_set[y_set == j, 1],\n",
    "                c = ListedColormap(('red', 'green'))(i), label = j)\n",
    "plt.title('Decision Tree Classification (Training set)')\n",
    "plt.xlabel('GRE Score')\n",
    "plt.ylabel('CGPA')\n",
    "plt.legend()\n",
    "plt.show()"
   ]
  },
  {
   "cell_type": "code",
   "execution_count": 57,
   "metadata": {},
   "outputs": [
    {
     "name": "stderr",
     "output_type": "stream",
     "text": [
      "'c' argument looks like a single numeric RGB or RGBA sequence, which should be avoided as value-mapping will have precedence in case its length matches with 'x' & 'y'.  Please use a 2-D array with a single row if you really want to specify the same RGB or RGBA value for all points.\n",
      "'c' argument looks like a single numeric RGB or RGBA sequence, which should be avoided as value-mapping will have precedence in case its length matches with 'x' & 'y'.  Please use a 2-D array with a single row if you really want to specify the same RGB or RGBA value for all points.\n"
     ]
    },
    {
     "data": {
      "image/png": "[encoded data removed]",
      "text/plain": [
       "<Figure size 432x288 with 1 Axes>"
      ]
     },
     "metadata": {
      "needs_background": "light"
     },
     "output_type": "display_data"
    }
   ],
   "source": [
    "# Visualising the Test set results\n",
    "from matplotlib.colors import ListedColormap\n",
    "X_set, y_set = X_test, Y_test\n",
    "X1, X2 = np.meshgrid(np.arange(start = X_set[:, 0].min() - 1, stop = X_set[:, 0].max() + 1, step = 0.01),\n",
    "                     np.arange(start = X_set[:, 1].min() - 1, stop = X_set[:, 1].max() + 1, step = 0.01))\n",
    "plt.contourf(X1, X2, classifier.predict(np.array([X1.ravel(), X2.ravel()]).T).reshape(X1.shape),\n",
    "             alpha = 0.2, cmap = ListedColormap(('red', 'green')))\n",
    "plt.xlim(X1.min(), X1.max())\n",
    "plt.ylim(X2.min(), X2.max())\n",
    "for i, j in enumerate(np.unique(y_set)):\n",
    "    plt.scatter(X_set[y_set == j, 0], X_set[y_set == j, 1],\n",
    "                c = ListedColormap(('red', 'green'))(i), label = j)\n",
    "plt.title('Decision Tree Classification (Test set)')\n",
    "plt.xlabel('GRE Score')\n",
    "plt.ylabel('CGPA')\n",
    "plt.legend()\n",
    "plt.show()"
   ]
  },
  {
   "cell_type": "code",
   "execution_count": null,
   "metadata": {},
   "outputs": [],
   "source": []
  },
  {
   "cell_type": "markdown",
   "metadata": {},
   "source": [
    "## NAIVE BAYES"
   ]
  },
  {
   "cell_type": "code",
   "execution_count": 58,
   "metadata": {},
   "outputs": [
    {
     "data": {
      "text/plain": [
       "GaussianNB(priors=None, var_smoothing=1e-09)"
      ]
     },
     "execution_count": 58,
     "metadata": {},
     "output_type": "execute_result"
    }
   ],
   "source": [
    "# Fitting Naive Bayes to the Training set\n",
    "from sklearn.naive_bayes import GaussianNB\n",
    "classifier = GaussianNB()\n",
    "classifier.fit(X_train, Y_train)"
   ]
  },
  {
   "cell_type": "code",
   "execution_count": 59,
   "metadata": {},
   "outputs": [
    {
     "data": {
      "text/plain": [
       "array([1, 1, 1, 1, 1, 1, 1, 1, 1, 1, 0, 1, 1, 0, 1, 1, 1, 1, 1, 1, 1, 1,\n",
       "       1, 0, 1, 1, 0, 1, 1, 1, 1, 1, 1, 0, 1, 1, 1, 1, 1, 1, 1, 1, 1, 1,\n",
       "       1, 1, 1, 1, 1, 1, 1, 1, 1, 1, 1, 1, 1, 1, 1, 1, 1, 0, 1, 0, 1, 1,\n",
       "       1, 1, 1, 1, 1, 1, 1, 1, 1, 1, 1, 1, 1, 0], dtype=int64)"
      ]
     },
     "execution_count": 59,
     "metadata": {},
     "output_type": "execute_result"
    }
   ],
   "source": [
    "# Predicting the Test set results\n",
    "y_pred = classifier.predict(X_test)\n",
    "y_pred"
   ]
  },
  {
   "cell_type": "code",
   "execution_count": 60,
   "metadata": {},
   "outputs": [
    {
     "data": {
      "text/plain": [
       "<matplotlib.axes._subplots.AxesSubplot at 0x1a1f84250c8>"
      ]
     },
     "execution_count": 60,
     "metadata": {},
     "output_type": "execute_result"
    },
    {
     "data": {
      "image/png": "[encoded data removed]",
      "text/plain": [
       "<Figure size 432x288 with 2 Axes>"
      ]
     },
     "metadata": {
      "needs_background": "light"
     },
     "output_type": "display_data"
    }
   ],
   "source": [
    "from sklearn.metrics import confusion_matrix\n",
    "cm = confusion_matrix(Y_test, y_pred)\n",
    "sns.heatmap(cm, annot=True, fmt=\"d\")"
   ]
  },
  {
   "cell_type": "code",
   "execution_count": 61,
   "metadata": {},
   "outputs": [
    {
     "name": "stdout",
     "output_type": "stream",
     "text": [
      "              precision    recall  f1-score   support\n",
      "\n",
      "           0       0.50      0.57      0.53         7\n",
      "           1       0.96      0.95      0.95        73\n",
      "\n",
      "    accuracy                           0.91        80\n",
      "   macro avg       0.73      0.76      0.74        80\n",
      "weighted avg       0.92      0.91      0.92        80\n",
      "\n"
     ]
    }
   ],
   "source": [
    "#F1 Score with Precision and Recall\n",
    "from sklearn.metrics import classification_report\n",
    "print(classification_report(Y_test, y_pred))"
   ]
  },
  {
   "cell_type": "code",
   "execution_count": 62,
   "metadata": {},
   "outputs": [
    {
     "name": "stderr",
     "output_type": "stream",
     "text": [
      "'c' argument looks like a single numeric RGB or RGBA sequence, which should be avoided as value-mapping will have precedence in case its length matches with 'x' & 'y'.  Please use a 2-D array with a single row if you really want to specify the same RGB or RGBA value for all points.\n",
      "'c' argument looks like a single numeric RGB or RGBA sequence, which should be avoided as value-mapping will have precedence in case its length matches with 'x' & 'y'.  Please use a 2-D array with a single row if you really want to specify the same RGB or RGBA value for all points.\n"
     ]
    },
    {
     "data": {
      "image/png": "[encoded data removed]",
      "text/plain": [
       "<Figure size 432x288 with 1 Axes>"
      ]
     },
     "metadata": {
      "needs_background": "light"
     },
     "output_type": "display_data"
    }
   ],
   "source": [
    "# Visualising the Training set results\n",
    "from matplotlib.colors import ListedColormap\n",
    "X_set, y_set = X_train, Y_train\n",
    "X1, X2 = np.meshgrid(np.arange(start = X_set[:, 0].min() - 1, stop = X_set[:, 0].max() + 1, step = 0.01),\n",
    "                     np.arange(start = X_set[:, 1].min() - 1, stop = X_set[:, 1].max() + 1, step = 0.01))\n",
    "plt.contourf(X1, X2, classifier.predict(np.array([X1.ravel(), X2.ravel()]).T).reshape(X1.shape),\n",
    "             alpha = 0.2, cmap = ListedColormap(('red', 'green')))\n",
    "plt.xlim(X1.min(), X1.max())\n",
    "plt.ylim(X2.min(), X2.max())\n",
    "for i, j in enumerate(np.unique(y_set)):\n",
    "    plt.scatter(X_set[y_set == j, 0], X_set[y_set == j, 1],\n",
    "                c = ListedColormap(('red', 'green'))(i), label = j)\n",
    "plt.title('Naive Bayes (Training set)')\n",
    "plt.xlabel('GRE Score')\n",
    "plt.ylabel('CGPA')\n",
    "plt.legend()\n",
    "plt.show()\n"
   ]
  },
  {
   "cell_type": "code",
   "execution_count": 63,
   "metadata": {},
   "outputs": [
    {
     "name": "stderr",
     "output_type": "stream",
     "text": [
      "'c' argument looks like a single numeric RGB or RGBA sequence, which should be avoided as value-mapping will have precedence in case its length matches with 'x' & 'y'.  Please use a 2-D array with a single row if you really want to specify the same RGB or RGBA value for all points.\n",
      "'c' argument looks like a single numeric RGB or RGBA sequence, which should be avoided as value-mapping will have precedence in case its length matches with 'x' & 'y'.  Please use a 2-D array with a single row if you really want to specify the same RGB or RGBA value for all points.\n"
     ]
    },
    {
     "data": {
      "image/png": "[encoded data removed]",
      "text/plain": [
       "<Figure size 432x288 with 1 Axes>"
      ]
     },
     "metadata": {
      "needs_background": "light"
     },
     "output_type": "display_data"
    }
   ],
   "source": [
    "# Visualising the Test set results\n",
    "from matplotlib.colors import ListedColormap\n",
    "X_set, y_set = X_test, Y_test\n",
    "X1, X2 = np.meshgrid(np.arange(start = X_set[:, 0].min() - 1, stop = X_set[:, 0].max() + 1, step = 0.01),\n",
    "                     np.arange(start = X_set[:, 1].min() - 1, stop = X_set[:, 1].max() + 1, step = 0.01))\n",
    "plt.contourf(X1, X2, classifier.predict(np.array([X1.ravel(), X2.ravel()]).T).reshape(X1.shape),\n",
    "             alpha = 0.2, cmap = ListedColormap(('red', 'green')))\n",
    "plt.xlim(X1.min(), X1.max())\n",
    "plt.ylim(X2.min(), X2.max())\n",
    "for i, j in enumerate(np.unique(y_set)):\n",
    "    plt.scatter(X_set[y_set == j, 0], X_set[y_set == j, 1],\n",
    "                c = ListedColormap(('red', 'green'))(i), label = j)\n",
    "plt.title('Naive Bayes (Test set)')\n",
    "plt.xlabel('GRE Score')\n",
    "plt.ylabel('CGPA')\n",
    "plt.legend()\n",
    "plt.show()"
   ]
  },
  {
   "cell_type": "code",
   "execution_count": null,
   "metadata": {},
   "outputs": [],
   "source": []
  },
  {
   "cell_type": "code",
   "execution_count": null,
   "metadata": {},
   "outputs": [],
   "source": []
  },
  {
   "cell_type": "code",
   "execution_count": null,
   "metadata": {},
   "outputs": [],
   "source": []
  },
  {
   "cell_type": "code",
   "execution_count": null,
   "metadata": {},
   "outputs": [],
   "source": []
  },
  {
   "cell_type": "code",
   "execution_count": null,
   "metadata": {},
   "outputs": [],
   "source": []
  },
  {
   "cell_type": "code",
   "execution_count": null,
   "metadata": {},
   "outputs": [],
   "source": []
  },
  {
   "cell_type": "code",
   "execution_count": null,
   "metadata": {},
   "outputs": [],
   "source": []
  }
 ],
 "metadata": {
  "kernelspec": {
   "display_name": "Python 3",
   "language": "python",
   "name": "python3"
  },
  "language_info": {
   "codemirror_mode": {
    "name": "ipython",
    "version": 3
   },
   "file_extension": ".py",
   "mimetype": "text/x-python",
   "name": "python",
   "nbconvert_exporter": "python",
   "pygments_lexer": "ipython3",
   "version": "3.7.6"
  }
 },
 "nbformat": 4,
 "nbformat_minor": 4
}
